{
  "cells": [
    {
      "cell_type": "code",
      "execution_count": null,
      "id": "ea5ce139",
      "metadata": {
        "id": "ea5ce139"
      },
      "outputs": [],
      "source": [
        "# Jovian Commit Essentials\n",
        "# Please retain and execute this cell without modifying the contents for `jovian.commit` to work\n",
        "!pip install jovian --upgrade -q\n",
        "import jovian\n",
        "jovian.set_project('python-sudoku-solver-assignment')\n",
        "jovian.set_colab_id('1nTSybe0mEX6-ORSTSJEqXiiJ4fSL5k6a')"
      ]
    },
    {
      "cell_type": "markdown",
      "id": "4e8ff00e",
      "metadata": {
        "id": "4e8ff00e"
      },
      "source": [
        "# Assignment - Building a Sudoku Solver in Python\n",
        "\n",
        "\n",
        "As you go through this notebook, you will find the symbol **???** in certain places. To complete this assignment, you must replace all the **???** with appropriate values, expressions or statements to ensure that the notebook runs properly end-to-end. \n",
        "\n",
        "**Guidelines**\n",
        "\n",
        "1. Make sure to run all the code cells, otherwise you may get errors like `NameError` for undefined variables.\n",
        "2. Do not change variable names, delete cells or disturb other existing code. It may cause problems during evaluation.\n",
        "3. In some cases, you may need to add some code cells or new statements before or after the line of code containing the **???**. \n",
        "4. Since you'll be using a temporary online service for code execution, save your work by running `jovian.commit` at regular intervals.\n",
        "5. Questions marked **(Optional)** will not be considered for evaluation, and can be skipped. They are for your learning.\n",
        "6. If you are stuck, you can ask for help on the bootcamp Slack group. Post errors, ask for hints and help others, but **please don't share the full solution answer code on Slack** to give others a chance to write the code themselves.\n",
        "7. There are some tests included with this notebook to help you test your implementation. However, after submission your code will be tested with some hidden test cases. Make sure to test your code exhaustively to cover all edge cases.\n",
        "8. Please **DON'T add any `print`** statements in the notebook"
      ]
    },
    {
      "cell_type": "markdown",
      "id": "62ec03e8",
      "metadata": {
        "id": "62ec03e8"
      },
      "source": [
        "### How to Run the Code and Save Your Work\n",
        "\n",
        "**Option 1: Running using free online resources (1-click, recommended)**: Click the **Run** button at the top of this page and select **Run on Binder**. You can also select \"Run on Colab\" or \"Run on Kaggle\", but you'll need to create an account on [Google Colab](https://colab.research.google.com) or [Kaggle](https://kaggle.com) to use these platforms.\n",
        "\n",
        "\n",
        "**Option 2: Running on your computer locally**: To run the code on your computer locally, you'll need to set up [Python](https://www.python.org) & [Conda](https://docs.conda.io/projects/conda/en/latest/user-guide/install/), download the notebook and install the required libraries. Click the **Run** button at the top of this page, select the **Run Locally** option, and follow the instructions.\n",
        "\n",
        "**Saving your work**: You can save a snapshot of the assignment to your [Jovian](https://jovian.ai) profile, so that you can access it later and continue your work. Keep saving your work by running `jovian.commit` from time to time."
      ]
    },
    {
      "cell_type": "code",
      "execution_count": null,
      "id": "fb9bb3f5",
      "metadata": {
        "id": "fb9bb3f5",
        "scrolled": true
      },
      "outputs": [],
      "source": [
        "!pip install jovian --upgrade --quiet"
      ]
    },
    {
      "cell_type": "code",
      "execution_count": null,
      "id": "a8b547ce",
      "metadata": {
        "id": "a8b547ce"
      },
      "outputs": [],
      "source": [
        "import jovian"
      ]
    },
    {
      "cell_type": "code",
      "execution_count": null,
      "id": "96b83802",
      "metadata": {
        "colab": {
          "base_uri": "https://localhost:8080/",
          "height": 122
        },
        "id": "96b83802",
        "outputId": "ab4182bc-f7bc-4fac-9a96-a705637d698e"
      },
      "outputs": [
        {
          "name": "stdout",
          "output_type": "stream",
          "text": [
            "[jovian] Detected Colab notebook...\u001b[0m\n",
            "[jovian] Please enter your API key ( from https://jovian.ai/ ):\u001b[0m\n",
            "API KEY: ··········\n",
            "[jovian] Uploading colab notebook to Jovian...\u001b[0m\n",
            "Committed successfully! https://jovian.ai/ankyhunk-bg4/python-sudoku-solver-assignment\n"
          ]
        },
        {
          "data": {
            "application/vnd.google.colaboratory.intrinsic+json": {
              "type": "string"
            },
            "text/plain": [
              "'https://jovian.ai/ankyhunk-bg4/python-sudoku-solver-assignment'"
            ]
          },
          "execution_count": 5,
          "metadata": {},
          "output_type": "execute_result"
        }
      ],
      "source": [
        "jovian.commit(project='python-sudoku-solver-assignment', privacy='secret')"
      ]
    },
    {
      "cell_type": "markdown",
      "id": "52c37469",
      "metadata": {
        "id": "52c37469"
      },
      "source": [
        "## Introduction\n",
        "\n",
        "In this assignment, we'll write a Python program which can solve a Sudoku, a popular Japanese puzzle you may have seen in newspapers. Here's what a Sudoku looks like:\n",
        "\n",
        "<img src=\"https://i.imgur.com/vfArdnW.jpg\" width=\"360\">\n",
        "\n",
        "It's a 9x9 grid containing several blank spaces and some numbers (between 1 and 9). There are also nine 3x3 subgrids (indicated by the dark lines).\n",
        "\n",
        "\n",
        "> **Solving a Sudoku**: To _solve_ a Sudoku, you must fill all the blank spaces in the above 9x9 grid with digits so that each column, each row and each of the nine 3x3 subgrids (also called \"boxes\") contain all of the digits from 1 to 9, without repetition. \n",
        "\n",
        "Here's the solution to the above puzzle:\n",
        "\n",
        "<img src=\"https://i.imgur.com/0oXXRNk.png\" width=\"360\">\n",
        "\n",
        "Can you verify that this solution matches the criteria mentioned above?\n",
        "\n",
        "> **Sudoku World Record**: In 2018, China's Wang Shiyao set a new world record in Sudoku on Wednesday when she managed to solve a 9x9 sudoku grid in 54.44 seconds at the World Sudoku & Puzzle Championship held in Prague. \n",
        "\n",
        "Let's see if we can beat that record with a Python program, without solving even a single Sudoku by hand.\n",
        "\n",
        "Here are the steps we'll follow to create a Sudoku solver in Python:\n",
        "\n",
        "1. Represent a Sudoku as a list of lists in Python\n",
        "2. Create helper functions to extract rows, columns and boxes from the Sudoku\n",
        "3. Create functions to check if a Sudoku is valid or complete\n",
        "4. Use a recursive strategy to solve a Sudoku by trial & error\n",
        "5. Read 100 Sudokus from a file and solve them all together"
      ]
    },
    {
      "cell_type": "markdown",
      "id": "8a45ac3f",
      "metadata": {
        "id": "8a45ac3f"
      },
      "source": [
        "## 1. Puzzle Representation \n",
        "\n",
        "The first step for solving any real-world problem is to figure out the representation for the inputs and outputs of the problem. In this case, the input is an unsolved Sudoku puzzle and the output is the solved version of the input puzzles\n",
        "\n",
        "We'll use a list of lists of numbers to represent a Sudoku puzzle. \n",
        "\n",
        "<img src=\"https://i.imgur.com/vfArdnW.jpg\" width=\"360\">\n",
        "\n",
        "Here's how we can represent the above puzzle:"
      ]
    },
    {
      "cell_type": "code",
      "execution_count": null,
      "id": "ec353c45",
      "metadata": {
        "id": "ec353c45"
      },
      "outputs": [],
      "source": [
        "puzzle1 = [[5, 3, 0, 0, 7, 0, 0, 0, 0], \n",
        "           [6, 0, 0, 1, 9, 5, 0, 0, 0], \n",
        "           [0, 9, 8, 0, 0, 0, 0, 6, 0], \n",
        "           [8, 0, 0, 0, 6, 0, 0, 0, 3],\n",
        "           [4, 0, 0, 8, 0, 3, 0, 0, 1],\n",
        "           [7, 0, 0, 0, 2, 0, 0, 0, 6],\n",
        "           [0, 6, 0, 0, 0, 0, 2, 8, 0],\n",
        "           [0, 0, 0, 4, 1, 9, 0, 0, 5],\n",
        "           [0, 0, 0, 0, 8, 0, 0, 7, 9]]"
      ]
    },
    {
      "cell_type": "code",
      "execution_count": null,
      "id": "3c588e01",
      "metadata": {
        "colab": {
          "base_uri": "https://localhost:8080/"
        },
        "id": "3c588e01",
        "outputId": "181a4981-1d27-4fc8-f667-94c914de66a4"
      },
      "outputs": [
        {
          "data": {
            "text/plain": [
              "[[5, 3, 0, 0, 7, 0, 0, 0, 0],\n",
              " [6, 0, 0, 1, 9, 5, 0, 0, 0],\n",
              " [0, 9, 8, 0, 0, 0, 0, 6, 0],\n",
              " [8, 0, 0, 0, 6, 0, 0, 0, 3],\n",
              " [4, 0, 0, 8, 0, 3, 0, 0, 1],\n",
              " [7, 0, 0, 0, 2, 0, 0, 0, 6],\n",
              " [0, 6, 0, 0, 0, 0, 2, 8, 0],\n",
              " [0, 0, 0, 4, 1, 9, 0, 0, 5],\n",
              " [0, 0, 0, 0, 8, 0, 0, 7, 9]]"
            ]
          },
          "execution_count": 7,
          "metadata": {},
          "output_type": "execute_result"
        }
      ],
      "source": [
        "puzzle1"
      ]
    },
    {
      "cell_type": "markdown",
      "id": "9eeed189",
      "metadata": {
        "id": "9eeed189"
      },
      "source": [
        "\n",
        "\n",
        "Note the following details about the above representation:\n",
        "\n",
        "- The outer list contains 9 elements, one for each row of the puzzle\n",
        "- Each element in the outer list is itself a list, containing 9 elements, one for each column\n",
        "- Blank spaces in the Sudoku are represented using `0` and filled spaces are represented using digits.\n",
        "\n",
        "We can check the number of rows and columns using the `len` function."
      ]
    },
    {
      "cell_type": "code",
      "execution_count": null,
      "id": "ed391bb4",
      "metadata": {
        "colab": {
          "base_uri": "https://localhost:8080/"
        },
        "id": "ed391bb4",
        "outputId": "68946190-ecbe-4095-b091-f558a7bfcfa7"
      },
      "outputs": [
        {
          "data": {
            "text/plain": [
              "9"
            ]
          },
          "execution_count": 8,
          "metadata": {},
          "output_type": "execute_result"
        }
      ],
      "source": [
        "# Number of rows\n",
        "len(puzzle1)"
      ]
    },
    {
      "cell_type": "code",
      "execution_count": null,
      "id": "38661907",
      "metadata": {
        "colab": {
          "base_uri": "https://localhost:8080/"
        },
        "id": "38661907",
        "outputId": "1ae23e4c-f3c7-4ad4-8035-aac2a405acba"
      },
      "outputs": [
        {
          "data": {
            "text/plain": [
              "9"
            ]
          },
          "execution_count": 9,
          "metadata": {},
          "output_type": "execute_result"
        }
      ],
      "source": [
        "# Number of elements row no. 0\n",
        "len(puzzle1[0])"
      ]
    },
    {
      "cell_type": "markdown",
      "id": "5491560e",
      "metadata": {
        "id": "5491560e"
      },
      "source": [
        "We can access a row or a single value using the list indexing notation. Recall that list elements have indices from `0` to `n-1`, for a list of length `n`."
      ]
    },
    {
      "cell_type": "code",
      "execution_count": null,
      "id": "a87649eb",
      "metadata": {
        "colab": {
          "base_uri": "https://localhost:8080/"
        },
        "id": "a87649eb",
        "outputId": "6d201d47-ec1e-4e5b-ddb5-8e1334c5e3f0"
      },
      "outputs": [
        {
          "data": {
            "text/plain": [
              "[5, 3, 0, 0, 7, 0, 0, 0, 0]"
            ]
          },
          "execution_count": 10,
          "metadata": {},
          "output_type": "execute_result"
        }
      ],
      "source": [
        "# Row no. 0\n",
        "puzzle1[0]"
      ]
    },
    {
      "cell_type": "code",
      "execution_count": null,
      "id": "f8cc328d",
      "metadata": {
        "colab": {
          "base_uri": "https://localhost:8080/"
        },
        "id": "f8cc328d",
        "outputId": "206e4564-2ace-46aa-dce3-4be212b14e6d"
      },
      "outputs": [
        {
          "data": {
            "text/plain": [
              "8"
            ]
          },
          "execution_count": 11,
          "metadata": {},
          "output_type": "execute_result"
        }
      ],
      "source": [
        "# Element at Row no. 2 and col no. 2 (counting from 0)\n",
        "puzzle1[2][2]"
      ]
    },
    {
      "cell_type": "markdown",
      "id": "1c8d0170",
      "metadata": {
        "id": "1c8d0170"
      },
      "source": [
        "Let's save our work before continuing."
      ]
    },
    {
      "cell_type": "code",
      "execution_count": null,
      "id": "676e3f9e",
      "metadata": {
        "colab": {
          "base_uri": "https://localhost:8080/",
          "height": 87
        },
        "id": "676e3f9e",
        "outputId": "06e33608-961f-4da0-f542-e8d9a1e5f6fb"
      },
      "outputs": [
        {
          "name": "stdout",
          "output_type": "stream",
          "text": [
            "[jovian] Detected Colab notebook...\u001b[0m\n",
            "[jovian] Uploading colab notebook to Jovian...\u001b[0m\n",
            "Committed successfully! https://jovian.ai/ankyhunk-bg4/python-sudoku-solver-assignment\n"
          ]
        },
        {
          "data": {
            "application/vnd.google.colaboratory.intrinsic+json": {
              "type": "string"
            },
            "text/plain": [
              "'https://jovian.ai/ankyhunk-bg4/python-sudoku-solver-assignment'"
            ]
          },
          "execution_count": 38,
          "metadata": {},
          "output_type": "execute_result"
        }
      ],
      "source": [
        "jovian.commit()"
      ]
    },
    {
      "cell_type": "markdown",
      "id": "a8fb91de",
      "metadata": {
        "id": "a8fb91de"
      },
      "source": [
        "Like the unsolved puzzle, the solved Sudoku can also be represented as a list of lists. Here's the solution to the above puzzle:\n",
        "\n",
        "<img src=\"https://i.imgur.com/0oXXRNk.png\" width=\"360\">\n",
        "\n",
        "> **QUESTION 1**: Represent the above solved Sudoku using a list of lists, in a similar fashion as the unsolved Sudoku.\n"
      ]
    },
    {
      "cell_type": "code",
      "execution_count": null,
      "id": "e31e40de",
      "metadata": {
        "id": "e31e40de"
      },
      "outputs": [],
      "source": [
        "solution1 = [[5, 3, 4, 6, 7, 8, 9, 1, 2], \n",
        "             [6, 7, 2, 1, 9, 5, 3, 4, 8], \n",
        "             [1, 9, 8, 3, 4, 2, 5, 6, 7], \n",
        "             [8, 5, 9, 7, 6, 1, 4, 2, 3],\n",
        "             [4, 2, 6, 8, 5, 3, 7, 9, 1],\n",
        "             [7, 1, 3, 9, 2, 4, 8, 5, 6],\n",
        "             [9, 6, 1, 5, 3, 7, 2, 8, 4],\n",
        "             [2, 8, 7, 4, 1, 9, 6, 3, 5],\n",
        "             [3, 4, 5, 2, 8, 6, 1, 7, 9]]"
      ]
    },
    {
      "cell_type": "code",
      "execution_count": null,
      "id": "74e32254",
      "metadata": {
        "colab": {
          "base_uri": "https://localhost:8080/"
        },
        "id": "74e32254",
        "outputId": "8391a8a0-09af-439b-ab78-5579b19899b4"
      },
      "outputs": [
        {
          "data": {
            "text/plain": [
              "[[5, 3, 4, 6, 7, 8, 9, 1, 2],\n",
              " [6, 7, 2, 1, 9, 5, 3, 4, 8],\n",
              " [1, 9, 8, 3, 4, 2, 5, 6, 7],\n",
              " [8, 5, 9, 7, 6, 1, 4, 2, 3],\n",
              " [4, 2, 6, 8, 5, 3, 7, 9, 1],\n",
              " [7, 1, 3, 9, 2, 4, 8, 5, 6],\n",
              " [9, 6, 1, 5, 3, 7, 2, 8, 4],\n",
              " [2, 8, 7, 4, 1, 9, 6, 3, 5],\n",
              " [3, 4, 5, 2, 8, 6, 1, 7, 9]]"
            ]
          },
          "execution_count": 40,
          "metadata": {},
          "output_type": "execute_result"
        }
      ],
      "source": [
        "solution1"
      ]
    },
    {
      "cell_type": "markdown",
      "id": "64516a53",
      "metadata": {
        "id": "64516a53"
      },
      "source": [
        "The following cell should output `True` if your definition of `solution1` is correct."
      ]
    },
    {
      "cell_type": "code",
      "execution_count": null,
      "id": "e4f18e7f",
      "metadata": {
        "colab": {
          "base_uri": "https://localhost:8080/"
        },
        "id": "e4f18e7f",
        "outputId": "b77cdcdc-3d8c-4ae5-b3a7-3fc67af59b4d"
      },
      "outputs": [
        {
          "data": {
            "text/plain": [
              "True"
            ]
          },
          "execution_count": 41,
          "metadata": {},
          "output_type": "execute_result"
        }
      ],
      "source": [
        "len(solution1) == 9 and len(solution1[0]) == 9"
      ]
    },
    {
      "cell_type": "markdown",
      "id": "9ce20ed3",
      "metadata": {
        "id": "9ce20ed3"
      },
      "source": [
        "\n",
        "\n",
        "> **QUESTION 2**: Retrieve row no. 3 of the solution (counting from 0) using the list indexing notation."
      ]
    },
    {
      "cell_type": "code",
      "execution_count": null,
      "id": "b3336603",
      "metadata": {
        "id": "b3336603"
      },
      "outputs": [],
      "source": [
        "row3 = solution1[3]"
      ]
    },
    {
      "cell_type": "code",
      "execution_count": null,
      "id": "a0393119",
      "metadata": {
        "colab": {
          "base_uri": "https://localhost:8080/"
        },
        "id": "a0393119",
        "outputId": "f9885d02-6524-44d0-ee4e-1946ffc64a17"
      },
      "outputs": [
        {
          "data": {
            "text/plain": [
              "[8, 5, 9, 7, 6, 1, 4, 2, 3]"
            ]
          },
          "execution_count": 43,
          "metadata": {},
          "output_type": "execute_result"
        }
      ],
      "source": [
        "row3"
      ]
    },
    {
      "cell_type": "markdown",
      "id": "fccf3e45",
      "metadata": {
        "id": "fccf3e45"
      },
      "source": [
        "The following cell should output `True` if your definition of `solution1` is correct."
      ]
    },
    {
      "cell_type": "code",
      "execution_count": null,
      "id": "79e6f220",
      "metadata": {
        "colab": {
          "base_uri": "https://localhost:8080/"
        },
        "id": "79e6f220",
        "outputId": "4cac3b9e-dd03-4991-a87c-1164086b1a5c"
      },
      "outputs": [
        {
          "data": {
            "text/plain": [
              "True"
            ]
          },
          "execution_count": 44,
          "metadata": {},
          "output_type": "execute_result"
        }
      ],
      "source": [
        "row3 == [8, 5, 9, 7, 6, 1, 4, 2, 3]"
      ]
    },
    {
      "cell_type": "markdown",
      "id": "234cfb73",
      "metadata": {
        "id": "234cfb73"
      },
      "source": [
        "\n",
        "\n",
        "> **QUESTION 3**: Retrieve the value in row no. 4 and column no. 5 of the solution (both counting from 0)."
      ]
    },
    {
      "cell_type": "code",
      "execution_count": null,
      "id": "4203fd46",
      "metadata": {
        "id": "4203fd46"
      },
      "outputs": [],
      "source": [
        "val_4_5 = solution1[4][5]"
      ]
    },
    {
      "cell_type": "code",
      "execution_count": null,
      "id": "dc81aa2b",
      "metadata": {
        "colab": {
          "base_uri": "https://localhost:8080/"
        },
        "id": "dc81aa2b",
        "outputId": "4404bdd0-d473-4f35-e7ec-57e2683303a2"
      },
      "outputs": [
        {
          "data": {
            "text/plain": [
              "3"
            ]
          },
          "execution_count": 46,
          "metadata": {},
          "output_type": "execute_result"
        }
      ],
      "source": [
        "val_4_5"
      ]
    },
    {
      "cell_type": "markdown",
      "id": "cc826a99",
      "metadata": {
        "id": "cc826a99"
      },
      "source": [
        "The following cell should output `True` if your definition of `solution1` is correct."
      ]
    },
    {
      "cell_type": "code",
      "execution_count": null,
      "id": "f4d68aa7",
      "metadata": {
        "colab": {
          "base_uri": "https://localhost:8080/"
        },
        "id": "f4d68aa7",
        "outputId": "7814f1ad-c128-4c69-efd7-b0f2bb14603f"
      },
      "outputs": [
        {
          "data": {
            "text/plain": [
              "True"
            ]
          },
          "execution_count": 47,
          "metadata": {},
          "output_type": "execute_result"
        }
      ],
      "source": [
        "val_4_5 == 3"
      ]
    },
    {
      "cell_type": "markdown",
      "id": "8a64e344",
      "metadata": {
        "id": "8a64e344"
      },
      "source": [
        "> **QUESTION 4**: Retrieve the value in the last row and column no. 0 of the solution (counting from 0)."
      ]
    },
    {
      "cell_type": "code",
      "execution_count": null,
      "id": "8b84048b",
      "metadata": {
        "id": "8b84048b"
      },
      "outputs": [],
      "source": [
        "val_last_zero = solution1[-1][0]"
      ]
    },
    {
      "cell_type": "code",
      "execution_count": null,
      "id": "53525ae6",
      "metadata": {
        "colab": {
          "base_uri": "https://localhost:8080/"
        },
        "id": "53525ae6",
        "outputId": "185a0486-a473-42bd-ca6d-25db4d7e6b33"
      },
      "outputs": [
        {
          "data": {
            "text/plain": [
              "3"
            ]
          },
          "execution_count": 49,
          "metadata": {},
          "output_type": "execute_result"
        }
      ],
      "source": [
        "val_last_zero"
      ]
    },
    {
      "cell_type": "markdown",
      "id": "d1dd06dd",
      "metadata": {
        "id": "d1dd06dd"
      },
      "source": [
        "The following cell should output `True` if your definition of `solution1` is correct."
      ]
    },
    {
      "cell_type": "code",
      "execution_count": null,
      "id": "db79c750",
      "metadata": {
        "colab": {
          "base_uri": "https://localhost:8080/"
        },
        "id": "db79c750",
        "outputId": "3f5f6395-57d2-4fc6-9054-b6d23e616d2e"
      },
      "outputs": [
        {
          "data": {
            "text/plain": [
              "True"
            ]
          },
          "execution_count": 50,
          "metadata": {},
          "output_type": "execute_result"
        }
      ],
      "source": [
        "val_last_zero == 3"
      ]
    },
    {
      "cell_type": "markdown",
      "id": "9a19424a",
      "metadata": {
        "id": "9a19424a"
      },
      "source": [
        "Let's save our work before continuing."
      ]
    },
    {
      "cell_type": "code",
      "execution_count": null,
      "id": "9b8175da",
      "metadata": {
        "colab": {
          "base_uri": "https://localhost:8080/",
          "height": 87
        },
        "id": "9b8175da",
        "outputId": "ea17548b-3167-4942-96df-ea16b67a9891"
      },
      "outputs": [
        {
          "name": "stdout",
          "output_type": "stream",
          "text": [
            "[jovian] Detected Colab notebook...\u001b[0m\n",
            "[jovian] Uploading colab notebook to Jovian...\u001b[0m\n",
            "Committed successfully! https://jovian.ai/ankyhunk-bg4/python-sudoku-solver-assignment\n"
          ]
        },
        {
          "data": {
            "application/vnd.google.colaboratory.intrinsic+json": {
              "type": "string"
            },
            "text/plain": [
              "'https://jovian.ai/ankyhunk-bg4/python-sudoku-solver-assignment'"
            ]
          },
          "execution_count": 51,
          "metadata": {},
          "output_type": "execute_result"
        }
      ],
      "source": [
        "jovian.commit()"
      ]
    },
    {
      "cell_type": "markdown",
      "id": "dc8b1f24",
      "metadata": {
        "id": "dc8b1f24"
      },
      "source": [
        "## 2. Extracting Rows, Columns and Boxes\n",
        "\n",
        "Before we can solve a Sudoku, we'll need a way to extract specific rows, columns and boxes from the Sudoku. We'll create a helper function for each of these. \n",
        "\n",
        "### Rows\n",
        "\n",
        "<img src=\"https://i.imgur.com/FR98oSb.jpg\" width=\"360\">\n",
        "\n",
        "> **QUESTION 5**: Write a function to extract row no. k (counting from 0) of a Sudoku as a list of numbers. Rows are numbered 0 to 8, starting from the top. E.g. row no. 2 above is `[0, 9, 8, 0, 0, 0, 0, 6, 0]`.\n",
        "     \n",
        "     \n"
      ]
    },
    {
      "cell_type": "code",
      "execution_count": null,
      "id": "67aaaae3",
      "metadata": {
        "id": "67aaaae3"
      },
      "outputs": [],
      "source": [
        "def get_row(sudoku, k):\n",
        "    return sudoku[k]"
      ]
    },
    {
      "cell_type": "code",
      "execution_count": null,
      "id": "13e5ce76",
      "metadata": {
        "colab": {
          "base_uri": "https://localhost:8080/"
        },
        "id": "13e5ce76",
        "outputId": "af24fe60-120d-4087-f307-9c400dd4f198"
      },
      "outputs": [
        {
          "data": {
            "text/plain": [
              "[0, 9, 8, 0, 0, 0, 0, 6, 0]"
            ]
          },
          "execution_count": 53,
          "metadata": {},
          "output_type": "execute_result"
        }
      ],
      "source": [
        "get_row(puzzle1, 2)"
      ]
    },
    {
      "cell_type": "code",
      "execution_count": null,
      "id": "cb5ffaa0",
      "metadata": {
        "colab": {
          "base_uri": "https://localhost:8080/"
        },
        "id": "cb5ffaa0",
        "outputId": "fbd8bde5-48c2-4271-f4b9-39f42bde6285"
      },
      "outputs": [
        {
          "data": {
            "text/plain": [
              "[8, 5, 9, 7, 6, 1, 4, 2, 3]"
            ]
          },
          "execution_count": 54,
          "metadata": {},
          "output_type": "execute_result"
        }
      ],
      "source": [
        "get_row(solution1, 3)"
      ]
    },
    {
      "cell_type": "markdown",
      "id": "dab37efd",
      "metadata": {
        "id": "dab37efd"
      },
      "source": [
        "The following cell should output `True` if your definition is correct."
      ]
    },
    {
      "cell_type": "code",
      "execution_count": null,
      "id": "2a3b9ed9",
      "metadata": {
        "colab": {
          "base_uri": "https://localhost:8080/"
        },
        "id": "2a3b9ed9",
        "outputId": "c32045ee-8a57-44d3-f144-7af4974feb1f"
      },
      "outputs": [
        {
          "data": {
            "text/plain": [
              "True"
            ]
          },
          "execution_count": 55,
          "metadata": {},
          "output_type": "execute_result"
        }
      ],
      "source": [
        "get_row(solution1, 3) == [8, 5, 9, 7, 6, 1, 4, 2, 3]"
      ]
    },
    {
      "cell_type": "markdown",
      "id": "6354dc8d",
      "metadata": {
        "id": "6354dc8d"
      },
      "source": [
        "You can use the cells below to test your implementation with a few more cases."
      ]
    },
    {
      "cell_type": "code",
      "execution_count": null,
      "id": "4df46f3c",
      "metadata": {
        "id": "4df46f3c"
      },
      "outputs": [],
      "source": []
    },
    {
      "cell_type": "code",
      "execution_count": null,
      "id": "f365c007",
      "metadata": {
        "id": "f365c007"
      },
      "outputs": [],
      "source": []
    },
    {
      "cell_type": "markdown",
      "id": "9ea2029a",
      "metadata": {
        "id": "9ea2029a"
      },
      "source": [
        "\n",
        "### Columns\n",
        "\n",
        "<img src=\"https://i.imgur.com/FezcTVP.png\" width=\"360\">\n",
        "\n",
        "> **QUESTION 6**: Write a function to extract column no. k of a Sudoku as a list of numbers. Columns are numbered 0 to 8 starting from the left. E.g. column no. 4 above is `[7, 9, 0, 6, 0, 2, 0, 1, 8]`.\n",
        ">\n",
        "> *Hint*: Use a `for` loop or list comprehension to get the k-th element of each row.\n",
        "\n"
      ]
    },
    {
      "cell_type": "code",
      "execution_count": null,
      "id": "0d0a4f6a",
      "metadata": {
        "id": "0d0a4f6a"
      },
      "outputs": [],
      "source": [
        "def get_col(sudoku, k):\n",
        "  col=[]\n",
        "  for i in range(len(sudoku)):\n",
        "    col.append(sudoku[i][k])\n",
        "  return col"
      ]
    },
    {
      "cell_type": "code",
      "execution_count": null,
      "id": "7bdf9276",
      "metadata": {
        "colab": {
          "base_uri": "https://localhost:8080/"
        },
        "id": "7bdf9276",
        "outputId": "1e82b5c3-6504-41d4-a945-bdea1f3f3a3f"
      },
      "outputs": [
        {
          "data": {
            "text/plain": [
              "[7, 9, 0, 6, 0, 2, 0, 1, 8]"
            ]
          },
          "execution_count": 57,
          "metadata": {},
          "output_type": "execute_result"
        }
      ],
      "source": [
        "get_col(puzzle1, 4)"
      ]
    },
    {
      "cell_type": "code",
      "execution_count": null,
      "id": "fedca734",
      "metadata": {
        "colab": {
          "base_uri": "https://localhost:8080/"
        },
        "id": "fedca734",
        "outputId": "3302c24f-40ac-490a-8de6-84d173ab4b50"
      },
      "outputs": [
        {
          "data": {
            "text/plain": [
              "[8, 5, 2, 1, 3, 4, 7, 9, 6]"
            ]
          },
          "execution_count": 58,
          "metadata": {},
          "output_type": "execute_result"
        }
      ],
      "source": [
        "get_col(solution1, 5)"
      ]
    },
    {
      "cell_type": "markdown",
      "id": "78d67cf6",
      "metadata": {
        "id": "78d67cf6"
      },
      "source": [
        "The following cell should output `True` if your implementation is correct."
      ]
    },
    {
      "cell_type": "code",
      "execution_count": null,
      "id": "7eae18d2",
      "metadata": {
        "colab": {
          "base_uri": "https://localhost:8080/"
        },
        "id": "7eae18d2",
        "outputId": "00a6b00e-6a63-4e2b-9e8e-e409e4ecced0"
      },
      "outputs": [
        {
          "data": {
            "text/plain": [
              "True"
            ]
          },
          "execution_count": 59,
          "metadata": {},
          "output_type": "execute_result"
        }
      ],
      "source": [
        "get_col(solution1, 5) == [8, 5, 2, 1, 3, 4, 7, 9, 6]"
      ]
    },
    {
      "cell_type": "markdown",
      "id": "2ab1950e",
      "metadata": {
        "id": "2ab1950e"
      },
      "source": [
        "You can use the cells below to test your implementation with a few more cases."
      ]
    },
    {
      "cell_type": "code",
      "execution_count": null,
      "id": "7247618c",
      "metadata": {
        "id": "7247618c"
      },
      "outputs": [],
      "source": [
        "def get_col(sudoku, k):\n",
        "  col=[sudoku[i][k] for i in range(len(sudoku))]\n",
        "  return col"
      ]
    },
    {
      "cell_type": "code",
      "execution_count": null,
      "id": "e4ae2507",
      "metadata": {
        "colab": {
          "base_uri": "https://localhost:8080/"
        },
        "id": "e4ae2507",
        "outputId": "ae46e255-08b6-43dc-a886-b5d1f88627be"
      },
      "outputs": [
        {
          "data": {
            "text/plain": [
              "[8, 5, 2, 1, 3, 4, 7, 9, 6]"
            ]
          },
          "execution_count": 61,
          "metadata": {},
          "output_type": "execute_result"
        }
      ],
      "source": [
        "get_col(solution1, 5)"
      ]
    },
    {
      "cell_type": "markdown",
      "id": "e98c5d36",
      "metadata": {
        "id": "e98c5d36"
      },
      "source": [
        "### Boxes\n",
        "\n",
        "<img src=\"https://i.imgur.com/n8wkXEo.jpg\" width=\"360\">\n",
        "\n",
        "> **QUESTION 7**: Each 3x3 subgrid of the Sudoku is called a box. Write a function to extract the box no. k of a Sudoku as a list of numbers. Boxes are numbered from 0 to 8 as shown above. The numbers in a box are represented as a list, going from left to right and top to bottom. E.g. box no. 0 above is `[5, 3, 0, 6, 0, 0, 0, 9, 8]`.\n",
        "> \n",
        "> *Hint*: Use `if-elif-else` statements to select the starting index of the box and list concatenation to join the 3 rows in a box into a single row."
      ]
    },
    {
      "cell_type": "code",
      "execution_count": null,
      "id": "60d472f5",
      "metadata": {
        "id": "60d472f5"
      },
      "outputs": [],
      "source": [
        "def get_box(sudoku, k):\n",
        "    if k==0:\n",
        "      return sudoku[0][0:3]+sudoku[1][0:3]+sudoku[2][0:3]\n",
        "    elif k==1:\n",
        "      return sudoku[0][3:6]+sudoku[1][3:6]+sudoku[2][3:6]\n",
        "    elif k==2:\n",
        "      return sudoku[0][6:9]+sudoku[1][6:9]+sudoku[2][6:9]  \n",
        "    elif k==3:\n",
        "      return sudoku[3][0:3]+sudoku[4][0:3]+sudoku[5][0:3]\n",
        "    elif k==4:\n",
        "      return sudoku[3][3:6]+sudoku[4][3:6]+sudoku[5][3:6]\n",
        "    elif k==5:\n",
        "      return sudoku[3][6:9]+sudoku[4][6:9]+sudoku[5][6:9]\n",
        "    elif k==6:\n",
        "      return sudoku[6][0:3]+sudoku[7][0:3]+sudoku[8][0:3]\n",
        "    elif k==7:\n",
        "      return sudoku[6][3:6]+sudoku[7][3:6]+sudoku[8][3:6]\n",
        "    elif k==8:\n",
        "      return sudoku[6][6:9]+sudoku[7][6:9]+sudoku[8][6:9]   \n",
        "    else:\n",
        "      return 'Enter correct value of box no.' "
      ]
    },
    {
      "cell_type": "code",
      "execution_count": null,
      "id": "5563c52e",
      "metadata": {
        "colab": {
          "base_uri": "https://localhost:8080/"
        },
        "id": "5563c52e",
        "outputId": "fdf69d95-5f4f-47ca-8693-ef1741769424"
      },
      "outputs": [
        {
          "data": {
            "text/plain": [
              "[5, 3, 0, 6, 0, 0, 0, 9, 8]"
            ]
          },
          "execution_count": 63,
          "metadata": {},
          "output_type": "execute_result"
        }
      ],
      "source": [
        "get_box(puzzle1, 0)"
      ]
    },
    {
      "cell_type": "code",
      "execution_count": null,
      "id": "5834353a",
      "metadata": {
        "colab": {
          "base_uri": "https://localhost:8080/"
        },
        "id": "5834353a",
        "outputId": "5052d46e-5b22-401a-a792-d3b1493adec5"
      },
      "outputs": [
        {
          "data": {
            "text/plain": [
              "[5, 3, 7, 4, 1, 9, 2, 8, 6]"
            ]
          },
          "execution_count": 64,
          "metadata": {},
          "output_type": "execute_result"
        }
      ],
      "source": [
        "get_box(solution1, 7)"
      ]
    },
    {
      "cell_type": "markdown",
      "id": "0f69c28a",
      "metadata": {
        "id": "0f69c28a"
      },
      "source": [
        "The following cell should output `True` if your implementation is correct."
      ]
    },
    {
      "cell_type": "code",
      "execution_count": null,
      "id": "61a1b82f",
      "metadata": {
        "colab": {
          "base_uri": "https://localhost:8080/"
        },
        "id": "61a1b82f",
        "outputId": "83093216-22c1-4762-cecb-698a34b34105"
      },
      "outputs": [
        {
          "data": {
            "text/plain": [
              "True"
            ]
          },
          "execution_count": 65,
          "metadata": {},
          "output_type": "execute_result"
        }
      ],
      "source": [
        "get_box(solution1, 7) == [5, 3, 7, 4, 1, 9, 2, 8, 6]"
      ]
    },
    {
      "cell_type": "markdown",
      "id": "71af089d",
      "metadata": {
        "id": "71af089d"
      },
      "source": [
        "You can use the cells below to test your implementation with a few more cases."
      ]
    },
    {
      "cell_type": "code",
      "execution_count": null,
      "id": "f4222a26",
      "metadata": {
        "colab": {
          "base_uri": "https://localhost:8080/",
          "height": 35
        },
        "id": "f4222a26",
        "outputId": "6a40e045-b6ec-465c-b7a3-530490589808"
      },
      "outputs": [
        {
          "data": {
            "application/vnd.google.colaboratory.intrinsic+json": {
              "type": "string"
            },
            "text/plain": [
              "'Enter correct value of box no.'"
            ]
          },
          "execution_count": 66,
          "metadata": {},
          "output_type": "execute_result"
        }
      ],
      "source": [
        "get_box(puzzle1, 9)"
      ]
    },
    {
      "cell_type": "code",
      "execution_count": null,
      "id": "fdad3f5c",
      "metadata": {
        "id": "fdad3f5c"
      },
      "outputs": [],
      "source": []
    },
    {
      "cell_type": "markdown",
      "id": "46cd2d55",
      "metadata": {
        "id": "46cd2d55"
      },
      "source": [
        "### First Empty Position\n",
        "\n",
        "To start filling the Sudoku, we need to find an empty position to fill.\n",
        "\n",
        "> **QUESTION 8**: Write a function which finds the row & column index of the first empty position (indicated by 0) within a Sudoku. If the row no. i and column no. j column is the first empty position, the function should return the tuple `i, j`. If there are no empty positions, return `None, None`."
      ]
    },
    {
      "cell_type": "code",
      "execution_count": null,
      "id": "5888c1c8",
      "metadata": {
        "id": "5888c1c8"
      },
      "outputs": [],
      "source": [
        "from ast import Index\n",
        "def first_empty_position(sudoku):\n",
        "    for i in range(len(sudoku)):\n",
        "      for j in range(len(sudoku[0])):\n",
        "        if sudoku[i][j]==0:\n",
        "          return tuple([i,j])\n",
        "    return tuple([None,None])"
      ]
    },
    {
      "cell_type": "code",
      "execution_count": null,
      "id": "8aa0ebfa",
      "metadata": {
        "colab": {
          "base_uri": "https://localhost:8080/"
        },
        "id": "8aa0ebfa",
        "outputId": "edda7b34-b676-4cb5-ebf2-4f3039973610"
      },
      "outputs": [
        {
          "data": {
            "text/plain": [
              "(0, 2)"
            ]
          },
          "execution_count": 68,
          "metadata": {},
          "output_type": "execute_result"
        }
      ],
      "source": [
        "first_empty_position(puzzle1)"
      ]
    },
    {
      "cell_type": "code",
      "execution_count": null,
      "id": "11001b5c",
      "metadata": {
        "colab": {
          "base_uri": "https://localhost:8080/"
        },
        "id": "11001b5c",
        "outputId": "2d31bac4-4350-41ac-aed1-ba53f06828e7"
      },
      "outputs": [
        {
          "data": {
            "text/plain": [
              "(None, None)"
            ]
          },
          "execution_count": 69,
          "metadata": {},
          "output_type": "execute_result"
        }
      ],
      "source": [
        "first_empty_position(solution1)"
      ]
    },
    {
      "cell_type": "markdown",
      "id": "720ce0d1",
      "metadata": {
        "id": "720ce0d1"
      },
      "source": [
        "If your implementation is correct, the following cell should return `True`."
      ]
    },
    {
      "cell_type": "code",
      "execution_count": null,
      "id": "0dbd64ff",
      "metadata": {
        "colab": {
          "base_uri": "https://localhost:8080/"
        },
        "id": "0dbd64ff",
        "outputId": "e6463387-f383-43e6-e640-bb3a2f3279c3"
      },
      "outputs": [
        {
          "data": {
            "text/plain": [
              "True"
            ]
          },
          "execution_count": 70,
          "metadata": {},
          "output_type": "execute_result"
        }
      ],
      "source": [
        "first_empty_position(puzzle1) == (0, 2)"
      ]
    },
    {
      "cell_type": "code",
      "execution_count": null,
      "id": "aab715c0",
      "metadata": {
        "colab": {
          "base_uri": "https://localhost:8080/"
        },
        "id": "aab715c0",
        "outputId": "6459e7b2-cb70-4af9-a11b-12512b9c80a1"
      },
      "outputs": [
        {
          "data": {
            "text/plain": [
              "True"
            ]
          },
          "execution_count": 71,
          "metadata": {},
          "output_type": "execute_result"
        }
      ],
      "source": [
        "first_empty_position(solution1) == (None, None)"
      ]
    },
    {
      "cell_type": "markdown",
      "id": "698c96d5",
      "metadata": {
        "id": "698c96d5"
      },
      "source": [
        "You can use the cells below to test your implementation with a few more cases."
      ]
    },
    {
      "cell_type": "code",
      "execution_count": null,
      "id": "366d5a62",
      "metadata": {
        "id": "366d5a62"
      },
      "outputs": [],
      "source": []
    },
    {
      "cell_type": "code",
      "execution_count": null,
      "id": "b3d68351",
      "metadata": {
        "id": "b3d68351"
      },
      "outputs": [],
      "source": []
    },
    {
      "cell_type": "markdown",
      "id": "baf736bc",
      "metadata": {
        "id": "baf736bc"
      },
      "source": [
        "Let's save our work before continuing."
      ]
    },
    {
      "cell_type": "code",
      "execution_count": null,
      "id": "c474939c",
      "metadata": {
        "colab": {
          "base_uri": "https://localhost:8080/",
          "height": 87
        },
        "id": "c474939c",
        "outputId": "af616882-00ce-4637-ec0a-d15b56e350e7"
      },
      "outputs": [
        {
          "name": "stdout",
          "output_type": "stream",
          "text": [
            "[jovian] Detected Colab notebook...\u001b[0m\n",
            "[jovian] Uploading colab notebook to Jovian...\u001b[0m\n",
            "Committed successfully! https://jovian.ai/ankyhunk-bg4/python-sudoku-solver-assignment\n"
          ]
        },
        {
          "data": {
            "application/vnd.google.colaboratory.intrinsic+json": {
              "type": "string"
            },
            "text/plain": [
              "'https://jovian.ai/ankyhunk-bg4/python-sudoku-solver-assignment'"
            ]
          },
          "execution_count": 72,
          "metadata": {},
          "output_type": "execute_result"
        }
      ],
      "source": [
        "jovian.commit()"
      ]
    },
    {
      "cell_type": "markdown",
      "id": "467c488f",
      "metadata": {
        "id": "467c488f"
      },
      "source": [
        "## 3. Sudoku Validations \n",
        "\n",
        "\n",
        "### Valid Sudoku\n",
        "\n",
        "A Sudoku puzzle is valid if none of the rows, columns, or boxes contains repeating digits. For example, if a row of a Sudoku contains the number 5 twice, then the Sudoku puzzle is invalid and can't be solved. The same holds true for columns and boxes.\n",
        "\n",
        "\n",
        "![](https://i.imgur.com/QfvkcsM.png)\n",
        "\n",
        "\n",
        "First, we'll create a helper function to check if a row/column/box in a Sudoku is valid.\n",
        "\n",
        "> **QUESTION 9**: Write a function to check if a list of 9 numbers (containing digits from 1 to 9 and 0s to indicate blank spaces) is a valid section (row, column or box) for a Sudoku. Only 0 can occur more than once, the numbers 1 to 9 can occur at most once. Your function should return `True` if the section is valid and `False` otherwise.\n",
        ">\n",
        "> *Hint*: You may find the `count` method of a list useful."
      ]
    },
    {
      "cell_type": "code",
      "execution_count": null,
      "id": "05566f08",
      "metadata": {
        "id": "05566f08"
      },
      "outputs": [],
      "source": [
        "def is_section_valid(nums):\n",
        "    for i in nums:\n",
        "      if i!=0 and nums.count(i) > 1:\n",
        "        return False\n",
        "    return True    "
      ]
    },
    {
      "cell_type": "code",
      "execution_count": null,
      "id": "f1161721",
      "metadata": {
        "colab": {
          "base_uri": "https://localhost:8080/"
        },
        "id": "f1161721",
        "outputId": "9158953b-2595-40b8-d994-8430a0d1a21c"
      },
      "outputs": [
        {
          "data": {
            "text/plain": [
              "True"
            ]
          },
          "execution_count": 74,
          "metadata": {},
          "output_type": "execute_result"
        }
      ],
      "source": [
        "# should return True\n",
        "is_section_valid([5, 3, 7, 4, 1, 9, 2, 8, 6])"
      ]
    },
    {
      "cell_type": "code",
      "execution_count": null,
      "id": "b2ee579d",
      "metadata": {
        "colab": {
          "base_uri": "https://localhost:8080/"
        },
        "id": "b2ee579d",
        "outputId": "ad172ff1-b0d0-4eec-8be8-40902fed2817"
      },
      "outputs": [
        {
          "data": {
            "text/plain": [
              "True"
            ]
          },
          "execution_count": 75,
          "metadata": {},
          "output_type": "execute_result"
        }
      ],
      "source": [
        "# should return True\n",
        "is_section_valid([5, 3, 0, 6, 0, 0, 0, 9, 8])"
      ]
    },
    {
      "cell_type": "code",
      "execution_count": null,
      "id": "2b684e57",
      "metadata": {
        "colab": {
          "base_uri": "https://localhost:8080/"
        },
        "id": "2b684e57",
        "outputId": "ef5d211d-c427-4eb8-ab02-9a8cbb096fcd"
      },
      "outputs": [
        {
          "data": {
            "text/plain": [
              "False"
            ]
          },
          "execution_count": 76,
          "metadata": {},
          "output_type": "execute_result"
        }
      ],
      "source": [
        "# should return False\n",
        "is_section_valid([5, 3, 0, 6, 0, 8, 0, 9, 8])"
      ]
    },
    {
      "cell_type": "code",
      "execution_count": null,
      "id": "4e8622bc",
      "metadata": {
        "id": "4e8622bc"
      },
      "outputs": [],
      "source": []
    },
    {
      "cell_type": "markdown",
      "id": "43239060",
      "metadata": {
        "id": "43239060"
      },
      "source": [
        "We can now use the `is_section_valid` function to check if each row, column and box is valid. Rows, columns and boxes are retrieved using the `get_row`, `get_column` and `get_box` functions defined earlier.\n",
        "\n",
        "Let's create a function `is_sudoku_valid` to bring it all together."
      ]
    },
    {
      "cell_type": "code",
      "execution_count": null,
      "id": "64a0c48e",
      "metadata": {
        "id": "64a0c48e"
      },
      "outputs": [],
      "source": [
        "def is_sudoku_valid(sudoku):\n",
        "    rows_valid = all([is_section_valid(get_row(sudoku, i)) for i in range(0, 9)])\n",
        "    cols_valid = all([is_section_valid(get_col(sudoku, i)) for i in range(0, 9)])\n",
        "    boxes_valid = all([is_section_valid(get_box(sudoku, i)) for i in range(0, 9)])\n",
        "    return rows_valid and cols_valid and boxes_valid"
      ]
    },
    {
      "cell_type": "code",
      "execution_count": null,
      "id": "092ddf45",
      "metadata": {
        "id": "092ddf45"
      },
      "outputs": [],
      "source": [
        "# Valid Puzzle\n",
        "puzzle2 = [[5, 3, 0, 0, 7, 0, 0, 0, 0], \n",
        "           [6, 0, 0, 1, 9, 5, 0, 0, 0], \n",
        "           [0, 9, 8, 0, 4, 0, 0, 6, 0], \n",
        "           [8, 0, 0, 0, 6, 0, 0, 0, 3],\n",
        "           [4, 0, 0, 8, 0, 3, 0, 0, 1],\n",
        "           [7, 0, 0, 0, 2, 0, 0, 0, 6],\n",
        "           [0, 6, 0, 0, 0, 0, 2, 8, 0],\n",
        "           [0, 0, 0, 4, 1, 9, 0, 0, 5],\n",
        "           [0, 0, 0, 0, 8, 0, 0, 7, 9]]"
      ]
    },
    {
      "cell_type": "code",
      "execution_count": null,
      "id": "556d0abb",
      "metadata": {
        "id": "556d0abb"
      },
      "outputs": [],
      "source": [
        "# Invalid Puzzle\n",
        "puzzle2 = [[5, 3, 0, 0, 7, 0, 0, 0, 0], \n",
        "           [6, 0, 0, 1, 9, 5, 0, 0, 0], \n",
        "           [0, 9, 8, 0, 8, 0, 0, 6, 0], \n",
        "           [8, 0, 0, 0, 6, 0, 0, 0, 3],\n",
        "           [4, 0, 0, 8, 0, 3, 0, 0, 1],\n",
        "           [7, 0, 0, 0, 2, 0, 0, 0, 6],\n",
        "           [0, 6, 0, 0, 0, 0, 2, 8, 0],\n",
        "           [0, 0, 0, 4, 1, 9, 0, 0, 5],\n",
        "           [0, 0, 0, 0, 8, 0, 0, 7, 9]]"
      ]
    },
    {
      "cell_type": "markdown",
      "id": "fb4241a9",
      "metadata": {
        "id": "fb4241a9"
      },
      "source": [
        "Check your implementation by running the cells below."
      ]
    },
    {
      "cell_type": "code",
      "execution_count": null,
      "id": "7e6c2c23",
      "metadata": {
        "colab": {
          "base_uri": "https://localhost:8080/"
        },
        "id": "7e6c2c23",
        "outputId": "a4000e8c-414a-46e3-b909-a7d7f6297250"
      },
      "outputs": [
        {
          "data": {
            "text/plain": [
              "True"
            ]
          },
          "execution_count": 80,
          "metadata": {},
          "output_type": "execute_result"
        }
      ],
      "source": [
        "# should return True\n",
        "is_sudoku_valid(puzzle1)"
      ]
    },
    {
      "cell_type": "code",
      "execution_count": null,
      "id": "e3641332",
      "metadata": {
        "colab": {
          "base_uri": "https://localhost:8080/"
        },
        "id": "e3641332",
        "outputId": "1b715545-d3a1-49f8-de14-93d1fb43cda0"
      },
      "outputs": [
        {
          "data": {
            "text/plain": [
              "False"
            ]
          },
          "execution_count": 81,
          "metadata": {},
          "output_type": "execute_result"
        }
      ],
      "source": [
        "# should return False\n",
        "is_sudoku_valid(puzzle2)"
      ]
    },
    {
      "cell_type": "markdown",
      "id": "c5428448",
      "metadata": {
        "id": "c5428448"
      },
      "source": [
        "You can use the cells below to test `is_sudoku_valid` with a few more cases."
      ]
    },
    {
      "cell_type": "code",
      "execution_count": null,
      "id": "2cab619b",
      "metadata": {
        "id": "2cab619b"
      },
      "outputs": [],
      "source": []
    },
    {
      "cell_type": "code",
      "execution_count": null,
      "id": "2f52f76d",
      "metadata": {
        "id": "2f52f76d"
      },
      "outputs": [],
      "source": []
    },
    {
      "cell_type": "markdown",
      "id": "ba3c7363",
      "metadata": {
        "id": "ba3c7363"
      },
      "source": [
        "### Complete/Solved Sudoku\n",
        "\n",
        "Next, we need a way to check if a Sudoku is completely solved. This can be done by checking that each row, each column and each box in the Sudoku contains all the numbers from 1 to 9 exactly once.\n",
        "\n",
        "![](https://i.imgur.com/uG2uDk7.png)\n",
        "\n",
        "> **QUESTION 10**: Write a function to check if a list of 9 numbers (containing digits from 1 to 9) represents a complete section (row, column or box) for a Sudoku. The list should contain all the numbers from 1 to 9 exactly once. Your function should return `True` if the section is complete and `False` otherwise.\n",
        ">\n",
        "> *Hint*: You may find the `count` method of a list useful.\n"
      ]
    },
    {
      "cell_type": "code",
      "execution_count": null,
      "id": "2ae5dbea",
      "metadata": {
        "id": "2ae5dbea"
      },
      "outputs": [],
      "source": [
        "def is_section_complete(nums):\n",
        "    for i in range(1,10):\n",
        "      return nums.count(i)==1 and 0 not in nums"
      ]
    },
    {
      "cell_type": "code",
      "execution_count": null,
      "id": "de13147e",
      "metadata": {
        "colab": {
          "base_uri": "https://localhost:8080/"
        },
        "id": "de13147e",
        "outputId": "3a56d082-3ea0-41e2-e27d-22a58187847b"
      },
      "outputs": [
        {
          "data": {
            "text/plain": [
              "False"
            ]
          },
          "execution_count": 83,
          "metadata": {},
          "output_type": "execute_result"
        }
      ],
      "source": [
        "# should return False\n",
        "is_section_complete([0, 9, 8, 0, 0, 0, 0, 6, 0])"
      ]
    },
    {
      "cell_type": "code",
      "execution_count": null,
      "id": "7b95ddd2",
      "metadata": {
        "colab": {
          "base_uri": "https://localhost:8080/"
        },
        "id": "7b95ddd2",
        "outputId": "ef0ca1ae-2046-4250-e4a6-93a959e8daac"
      },
      "outputs": [
        {
          "data": {
            "text/plain": [
              "True"
            ]
          },
          "execution_count": 84,
          "metadata": {},
          "output_type": "execute_result"
        }
      ],
      "source": [
        "# should return True\n",
        "is_section_complete([1, 9, 8, 3, 4, 2, 5, 6, 7])"
      ]
    },
    {
      "cell_type": "markdown",
      "id": "b4bd09fb",
      "metadata": {
        "id": "b4bd09fb"
      },
      "source": [
        "You can use the cells below to test your implementation with a few more cases."
      ]
    },
    {
      "cell_type": "code",
      "execution_count": null,
      "id": "8e33c6cc",
      "metadata": {
        "id": "8e33c6cc"
      },
      "outputs": [],
      "source": []
    },
    {
      "cell_type": "code",
      "execution_count": null,
      "id": "db79fce2",
      "metadata": {
        "id": "db79fce2"
      },
      "outputs": [],
      "source": []
    },
    {
      "cell_type": "markdown",
      "id": "4f49e605",
      "metadata": {
        "id": "4f49e605"
      },
      "source": [
        "We can now use the `is_section_complete` function to check if each row, column and box is complete. Rows, columns and boxes are retrieved using the `get_row`, `get_column` and `get_box` functions defined earlier.\n",
        "\n",
        "Let's create a function `is_sudoku_complete` to bring it all together and check if an entire Sudoku is complete/solved."
      ]
    },
    {
      "cell_type": "code",
      "execution_count": null,
      "id": "064f527d",
      "metadata": {
        "id": "064f527d"
      },
      "outputs": [],
      "source": [
        "def is_sudoku_complete(sudoku):\n",
        "    rows_complete = all([is_section_complete(get_row(sudoku, i)) for i in range(0, 9)])\n",
        "    cols_complete = all([is_section_complete(get_col(sudoku, i)) for i in range(0, 9)])\n",
        "    boxes_complete = all([is_section_complete(get_box(sudoku, i)) for i in range(0, 9)])\n",
        "    return rows_complete and cols_complete and boxes_complete"
      ]
    },
    {
      "cell_type": "markdown",
      "id": "6f6278f7",
      "metadata": {
        "id": "6f6278f7"
      },
      "source": [
        "Check your implementation of `is_section_complete` using the cells below."
      ]
    },
    {
      "cell_type": "code",
      "execution_count": null,
      "id": "e60e089d",
      "metadata": {
        "colab": {
          "base_uri": "https://localhost:8080/"
        },
        "id": "e60e089d",
        "outputId": "2c4b5fae-80ca-4430-ce5b-77f3910398af"
      },
      "outputs": [
        {
          "data": {
            "text/plain": [
              "False"
            ]
          },
          "execution_count": 86,
          "metadata": {},
          "output_type": "execute_result"
        }
      ],
      "source": [
        "# should return False\n",
        "is_sudoku_complete(puzzle1)"
      ]
    },
    {
      "cell_type": "code",
      "execution_count": null,
      "id": "31c35e7e",
      "metadata": {
        "colab": {
          "base_uri": "https://localhost:8080/"
        },
        "id": "31c35e7e",
        "outputId": "cfdcae35-e202-4908-9a07-b458fa756ddc"
      },
      "outputs": [
        {
          "data": {
            "text/plain": [
              "True"
            ]
          },
          "execution_count": 87,
          "metadata": {},
          "output_type": "execute_result"
        }
      ],
      "source": [
        "# should return True\n",
        "is_sudoku_complete(solution1)"
      ]
    },
    {
      "cell_type": "markdown",
      "id": "d6cf48f4",
      "metadata": {
        "id": "d6cf48f4"
      },
      "source": [
        "You can use the cells below to test the `is_sudoku_complete` function with a few more cases."
      ]
    },
    {
      "cell_type": "code",
      "execution_count": null,
      "id": "69897ab2",
      "metadata": {
        "colab": {
          "base_uri": "https://localhost:8080/",
          "height": 165
        },
        "id": "69897ab2",
        "outputId": "bb6c5446-67b7-415d-d632-6445252544cd"
      },
      "outputs": [
        {
          "ename": "NameError",
          "evalue": "ignored",
          "output_type": "error",
          "traceback": [
            "\u001b[0;31m---------------------------------------------------------------------------\u001b[0m",
            "\u001b[0;31mNameError\u001b[0m                                 Traceback (most recent call last)",
            "\u001b[0;32m<ipython-input-144-9e9670b6af0e>\u001b[0m in \u001b[0;36m<module>\u001b[0;34m\u001b[0m\n\u001b[0;32m----> 1\u001b[0;31m \u001b[0mis_sudoku_complete\u001b[0m\u001b[0;34m(\u001b[0m\u001b[0mpuzzl\u001b[0m\u001b[0;34m)\u001b[0m\u001b[0;34m\u001b[0m\u001b[0;34m\u001b[0m\u001b[0m\n\u001b[0m",
            "\u001b[0;31mNameError\u001b[0m: name 'puzzl' is not defined"
          ]
        }
      ],
      "source": [
        "is_sudoku_complete(puzzl)"
      ]
    },
    {
      "cell_type": "code",
      "execution_count": null,
      "id": "f48a29af",
      "metadata": {
        "id": "f48a29af"
      },
      "outputs": [],
      "source": []
    },
    {
      "cell_type": "code",
      "execution_count": null,
      "id": "0097a459",
      "metadata": {
        "colab": {
          "base_uri": "https://localhost:8080/",
          "height": 87
        },
        "id": "0097a459",
        "outputId": "90f0d16f-11c0-4e0e-95d2-151dd38b6e50"
      },
      "outputs": [
        {
          "name": "stdout",
          "output_type": "stream",
          "text": [
            "[jovian] Detected Colab notebook...\u001b[0m\n",
            "[jovian] Uploading colab notebook to Jovian...\u001b[0m\n",
            "Committed successfully! https://jovian.ai/ankyhunk-bg4/python-sudoku-solver-assignment\n"
          ]
        },
        {
          "data": {
            "application/vnd.google.colaboratory.intrinsic+json": {
              "type": "string"
            },
            "text/plain": [
              "'https://jovian.ai/ankyhunk-bg4/python-sudoku-solver-assignment'"
            ]
          },
          "execution_count": 88,
          "metadata": {},
          "output_type": "execute_result"
        }
      ],
      "source": [
        "jovian.commit()"
      ]
    },
    {
      "cell_type": "markdown",
      "id": "6a114cc7",
      "metadata": {
        "id": "6a114cc7"
      },
      "source": [
        "## Make a Submission\n",
        "\n",
        "Run the following code cell to make a submission. You can also submit your Jovian notebook link on the assignment page.\n"
      ]
    },
    {
      "cell_type": "code",
      "execution_count": null,
      "id": "31e360ce",
      "metadata": {
        "colab": {
          "base_uri": "https://localhost:8080/"
        },
        "id": "31e360ce",
        "outputId": "9e2f4c71-0f5e-4c12-ae8c-c479e70a5844"
      },
      "outputs": [
        {
          "name": "stdout",
          "output_type": "stream",
          "text": [
            "[jovian] Detected Colab notebook...\u001b[0m\n",
            "[jovian] Uploading colab notebook to Jovian...\u001b[0m\n",
            "Committed successfully! https://jovian.ai/ankyhunk-bg4/python-sudoku-solver-assignment\n",
            "[jovian] Submitting assignment..\u001b[0m\n",
            "[jovian] Verify your submission at https://jovian.ai/learn/zero-to-data-analyst-bootcamp/assignment/sudoku-solver-in-python\u001b[0m\n"
          ]
        }
      ],
      "source": [
        "jovian.submit('dsmlbootcamp-sudoku-solver')"
      ]
    },
    {
      "cell_type": "markdown",
      "id": "4e8da389",
      "metadata": {
        "id": "4e8da389"
      },
      "source": [
        "Your submission will be evaluated using several hidden test cases, and the **PASS/FAIL** result (along with comments) will be available on the [assignment page](https://jovian.ai/learn/zero-to-data-analyst-bootcamp/assignment/assignment-1-sudoku-solver-in-python). You can submit any number of times. Only your last submission will be evaluated."
      ]
    },
    {
      "cell_type": "markdown",
      "id": "c34a996c",
      "metadata": {
        "id": "c34a996c"
      },
      "source": [
        "The rest of this assignment is optional."
      ]
    },
    {
      "cell_type": "markdown",
      "id": "18764eb2",
      "metadata": {
        "id": "18764eb2"
      },
      "source": [
        "## 4. Recursive Solution\n",
        "\n",
        "Now we have all the components to start building our Sudoku solver. Our solver will follow the simple approach of trying all possible solutions for filling the blank spaces one by one, while making sure that the Sudoku remains valid. \n",
        "\n",
        "We'll use a technique called recursion, which is best understood by working backwards. Consider the following scenarios:\n",
        "\n",
        "* **No empty spaces**: If a Sudoku has no empty spaces, then we can simply check if the Sudoku is already complete/solved using `is_sudoku_complete`. The Suduko is either already solved or invalid.\n",
        "\n",
        "* **1 empty space**: If a Sudoku has just one empty space, we can try to insert each digit from 1 to 9 into the empty space, and verify which digit, if any, leads to a completed solved Sudoku.\n",
        "\n",
        "* **2 empty spaces**: If a Sudoku has two empty spaces, we can try to insert each digit from 1 to 9 one-by-one into the first empty space, while making sure the Sudoku remains valid. For each valid attempt at inserting a number, the puzzle reduces to the previous problem of solving a Sudoku with just two empty spaces.\n",
        "\n",
        "* **3 empty spaces**: If a Sudoku has three empty spaces, we can try to insert each digit from 1 to 9 one-by-one into the first empty space, while making sure the Sudoku remains valid. For each valid attempt at inserting a number, the puzzle reduces to the previous problem of solving a Sudoku with two empty spaces.\n",
        "\n",
        "* and so on....\n",
        "\n",
        "* **n empty spaces**: If a Sudokuk has `n` empty spaces, we can try to insert each digit from 1 to 9 one-by-one into the first empty space, while making sure the Sudoku remains valid. For each valid attempt at inserting a number, the puzzle reduces to the previous problem of solving a Sudoku with `n-1` empty spaces.\n",
        "\n",
        "Here's a quick tutorial on recursion: https://youtu.be/wMNrSM5RFMc\n",
        "\n",
        "Let's define a helper function `repeat` to implement the above strategy for any number of empty spaces. The function repeat will attempt to fill the first empty space within a Sudoku and invoke itself to fill the remaining spaces *recursively* i.e. by invoking itself with a different input. The function will return `True` if it was able to fill all the spaces successfully, otherwise it will return `False`.\n"
      ]
    },
    {
      "cell_type": "code",
      "execution_count": null,
      "id": "d8af3d93",
      "metadata": {
        "id": "d8af3d93"
      },
      "outputs": [],
      "source": [
        "def repeat(sudoku):\n",
        "    # Check if Sudoku is already complete\n",
        "    if is_sudoku_complete(sudoku):\n",
        "        return True\n",
        "    \n",
        "    # Find the first empty position\n",
        "    i, j = first_empty_position(sudoku)\n",
        "    \n",
        "    # Try to fill it with numbers 1 to 9\n",
        "    for digit in range(1, 10):\n",
        "        \n",
        "        # Insert the digit into the right place\n",
        "        sudoku[i][j] = digit\n",
        "        \n",
        "        # Check if the new puzzle is valid\n",
        "        if is_sudoku_valid(sudoku):\n",
        "            \n",
        "            # Try to fill the remaining spaces recursively using `repeat`\n",
        "            # Node that this will directly fill values into the sudoku\n",
        "            result = repeat(sudoku)\n",
        "            \n",
        "            # If the recursive result is true, we have found the answer and filled the sudoku\n",
        "            if result is True:\n",
        "                return True\n",
        "        \n",
        "        \n",
        "        # Remove the digit, it doesn't lead to a solution\n",
        "        sudoku[i][j] = 0\n",
        "        \n",
        "    \n",
        "    # There are no valid numbers to fill the empty slot(s)\n",
        "    return False"
      ]
    },
    {
      "cell_type": "markdown",
      "id": "d80e84f9",
      "metadata": {
        "id": "d80e84f9"
      },
      "source": [
        "Note that `repeat` directly makes changes inside the puzzle passed to it, so it does not need to return the puzzle itself. Do you see how repeat works? Here's a visualization of the process for a 4x4 sudoku (4 rows, columns & boxes instead of 9): \n",
        "\n",
        "![](https://i.imgur.com/Njy5BtB.jpg)\n"
      ]
    },
    {
      "cell_type": "markdown",
      "id": "cd0632bd",
      "metadata": {
        "id": "cd0632bd"
      },
      "source": [
        "Finally, we can create a `solve_sudoku` function which uses `repeat` to solve a Sudoku and returns the solved version (or `None` if the Sudoku is unsolvable)."
      ]
    },
    {
      "cell_type": "code",
      "execution_count": null,
      "id": "b07be5a1",
      "metadata": {
        "id": "b07be5a1"
      },
      "outputs": [],
      "source": [
        "import copy\n",
        "\n",
        "def solve_sudoku(sudoku):\n",
        "    # Create a deep copy of the puzzle (list of lists),\n",
        "    # to avoid modifying the original\n",
        "    copied_sudoku = copy.deepcopy(sudoku)\n",
        "    \n",
        "    # Try to complete the Sudoku using repeat\n",
        "    result = repeat(copied_sudoku)\n",
        "    \n",
        "    # Return the solved version if successful\n",
        "    if result is True:\n",
        "        return copied_sudoku\n",
        "    \n",
        "    # Return None if unsuccessful\n",
        "    return None"
      ]
    },
    {
      "cell_type": "markdown",
      "id": "5c19c38b",
      "metadata": {
        "id": "5c19c38b"
      },
      "source": [
        "Let's test it out!"
      ]
    },
    {
      "cell_type": "code",
      "execution_count": null,
      "id": "70576c93",
      "metadata": {
        "colab": {
          "base_uri": "https://localhost:8080/"
        },
        "id": "70576c93",
        "outputId": "15cb78cc-25c3-4373-ea12-532a7b2d551a"
      },
      "outputs": [
        {
          "data": {
            "text/plain": [
              "[[5, 3, 0, 0, 7, 0, 0, 0, 0],\n",
              " [6, 0, 0, 1, 9, 5, 0, 0, 0],\n",
              " [0, 9, 8, 0, 0, 0, 0, 6, 0],\n",
              " [8, 0, 0, 0, 6, 0, 0, 0, 3],\n",
              " [4, 0, 0, 8, 0, 3, 0, 0, 1],\n",
              " [7, 0, 0, 0, 2, 0, 0, 0, 6],\n",
              " [0, 6, 0, 0, 0, 0, 2, 8, 0],\n",
              " [0, 0, 0, 4, 1, 9, 0, 0, 5],\n",
              " [0, 0, 0, 0, 8, 0, 0, 7, 9]]"
            ]
          },
          "execution_count": 92,
          "metadata": {},
          "output_type": "execute_result"
        }
      ],
      "source": [
        "puzzle1"
      ]
    },
    {
      "cell_type": "code",
      "execution_count": null,
      "id": "84e6cb21",
      "metadata": {
        "colab": {
          "base_uri": "https://localhost:8080/"
        },
        "id": "84e6cb21",
        "outputId": "be4a36a7-a224-4818-eb9a-c62a438fcbb2"
      },
      "outputs": [
        {
          "name": "stdout",
          "output_type": "stream",
          "text": [
            "CPU times: user 3.02 s, sys: 988 µs, total: 3.02 s\n",
            "Wall time: 3.03 s\n"
          ]
        },
        {
          "data": {
            "text/plain": [
              "[[5, 3, 4, 6, 7, 8, 9, 1, 2],\n",
              " [6, 7, 2, 1, 9, 5, 3, 4, 8],\n",
              " [1, 9, 8, 3, 4, 2, 5, 6, 7],\n",
              " [8, 5, 9, 7, 6, 1, 4, 2, 3],\n",
              " [4, 2, 6, 8, 5, 3, 7, 9, 1],\n",
              " [7, 1, 3, 9, 2, 4, 8, 5, 6],\n",
              " [9, 6, 1, 5, 3, 7, 2, 8, 4],\n",
              " [2, 8, 7, 4, 1, 9, 6, 3, 5],\n",
              " [3, 4, 5, 2, 8, 6, 1, 7, 9]]"
            ]
          },
          "execution_count": 93,
          "metadata": {},
          "output_type": "execute_result"
        }
      ],
      "source": [
        "%%time\n",
        "puzzle1_solved = solve_sudoku(puzzle1)\n",
        "puzzle1_solved"
      ]
    },
    {
      "cell_type": "code",
      "execution_count": null,
      "id": "1615f9ec",
      "metadata": {
        "colab": {
          "base_uri": "https://localhost:8080/"
        },
        "id": "1615f9ec",
        "outputId": "323de7f4-48c0-44d8-ea06-1bb3a38fe854"
      },
      "outputs": [
        {
          "data": {
            "text/plain": [
              "[[5, 3, 4, 6, 7, 8, 9, 1, 2],\n",
              " [6, 7, 2, 1, 9, 5, 3, 4, 8],\n",
              " [1, 9, 8, 3, 4, 2, 5, 6, 7],\n",
              " [8, 5, 9, 7, 6, 1, 4, 2, 3],\n",
              " [4, 2, 6, 8, 5, 3, 7, 9, 1],\n",
              " [7, 1, 3, 9, 2, 4, 8, 5, 6],\n",
              " [9, 6, 1, 5, 3, 7, 2, 8, 4],\n",
              " [2, 8, 7, 4, 1, 9, 6, 3, 5],\n",
              " [3, 4, 5, 2, 8, 6, 1, 7, 9]]"
            ]
          },
          "execution_count": 94,
          "metadata": {},
          "output_type": "execute_result"
        }
      ],
      "source": [
        "solution1"
      ]
    },
    {
      "cell_type": "code",
      "execution_count": null,
      "id": "eeb542da",
      "metadata": {
        "colab": {
          "base_uri": "https://localhost:8080/"
        },
        "id": "eeb542da",
        "outputId": "47088ba4-c6c5-4613-9f45-5ac224fa9f7f"
      },
      "outputs": [
        {
          "data": {
            "text/plain": [
              "True"
            ]
          },
          "execution_count": 95,
          "metadata": {},
          "output_type": "execute_result"
        }
      ],
      "source": [
        "puzzle1_solved == solution1"
      ]
    },
    {
      "cell_type": "markdown",
      "id": "2f3967d5",
      "metadata": {
        "id": "2f3967d5"
      },
      "source": [
        "Do you see how the `repeat` function works, by repeatedly invoking itself with progressively easier problems? Recursion can be tricky to wrap your head around at first, but it's a very powerful concept once you understand it.\n"
      ]
    },
    {
      "cell_type": "markdown",
      "id": "1c320a2e",
      "metadata": {
        "id": "1c320a2e"
      },
      "source": [
        "Test the `solve_sudoku` function with a few more examples below."
      ]
    },
    {
      "cell_type": "code",
      "execution_count": null,
      "id": "b2ea9efd",
      "metadata": {
        "id": "b2ea9efd"
      },
      "outputs": [],
      "source": [
        "sudoku1=[[0, 0, 4, 3, 0, 0, 2, 0, 9],\n",
        "         [0, 0, 5, 0, 0, 9, 0, 0, 1],\n",
        "         [0, 7, 0, 0, 6, 0, 0, 4, 3],\n",
        "         [0, 0, 6, 0, 0, 2, 0, 8, 7],\n",
        "         [1, 9, 0, 0, 0, 7, 4, 0, 0],\n",
        "         [0, 5, 0, 0, 8, 3, 0, 0, 0],\n",
        "         [6, 0, 0, 0, 0, 0, 1, 0, 5],\n",
        "         [0, 0, 3, 5, 0, 8, 6, 9, 0],\n",
        "         [0, 4, 2, 9, 1, 0, 3, 0, 0]]"
      ]
    },
    {
      "cell_type": "code",
      "execution_count": null,
      "id": "AVSljUSJIEOu",
      "metadata": {
        "colab": {
          "base_uri": "https://localhost:8080/"
        },
        "id": "AVSljUSJIEOu",
        "outputId": "4baeffd4-7584-47a4-fa38-b9d758102cae"
      },
      "outputs": [
        {
          "name": "stdout",
          "output_type": "stream",
          "text": [
            "CPU times: user 117 ms, sys: 0 ns, total: 117 ms\n",
            "Wall time: 119 ms\n"
          ]
        },
        {
          "data": {
            "text/plain": [
              "[[8, 6, 4, 3, 7, 1, 2, 5, 9],\n",
              " [3, 2, 5, 8, 4, 9, 7, 6, 1],\n",
              " [9, 7, 1, 2, 6, 5, 8, 4, 3],\n",
              " [4, 3, 6, 1, 9, 2, 5, 8, 7],\n",
              " [1, 9, 8, 6, 5, 7, 4, 3, 2],\n",
              " [2, 5, 7, 4, 8, 3, 9, 1, 6],\n",
              " [6, 8, 9, 7, 3, 4, 1, 2, 5],\n",
              " [7, 1, 3, 5, 0, 8, 6, 9, 0],\n",
              " [0, 4, 2, 9, 1, 0, 3, 0, 0]]"
            ]
          },
          "execution_count": 145,
          "metadata": {},
          "output_type": "execute_result"
        }
      ],
      "source": [
        "%%time\n",
        "puzzl_solved = solve_sudoku(sudoku1)\n",
        "puzzl_solved"
      ]
    },
    {
      "cell_type": "markdown",
      "id": "f07f931c",
      "metadata": {
        "id": "f07f931c"
      },
      "source": [
        "Let's save our work before continuing"
      ]
    },
    {
      "cell_type": "code",
      "execution_count": null,
      "id": "7262750a",
      "metadata": {
        "colab": {
          "base_uri": "https://localhost:8080/",
          "height": 87
        },
        "id": "7262750a",
        "outputId": "70838ca7-1622-4ad0-8d5c-e6e3ca368d67"
      },
      "outputs": [
        {
          "name": "stdout",
          "output_type": "stream",
          "text": [
            "[jovian] Detected Colab notebook...\u001b[0m\n",
            "[jovian] Uploading colab notebook to Jovian...\u001b[0m\n",
            "Committed successfully! https://jovian.ai/ankyhunk-bg4/python-sudoku-solver-assignment\n"
          ]
        },
        {
          "data": {
            "application/vnd.google.colaboratory.intrinsic+json": {
              "type": "string"
            },
            "text/plain": [
              "'https://jovian.ai/ankyhunk-bg4/python-sudoku-solver-assignment'"
            ]
          },
          "execution_count": 41,
          "metadata": {},
          "output_type": "execute_result"
        }
      ],
      "source": [
        "jovian.commit()"
      ]
    },
    {
      "cell_type": "markdown",
      "id": "2f6b02da",
      "metadata": {
        "id": "2f6b02da"
      },
      "source": [
        "## (Optional) Factorial of Numbers using Recursion\n",
        "\n",
        "\n",
        "Here's a simpler example of recursion: finding the factorial of a number. Factorial of a number `n` is defined as the product of all numbers from `1` to `n`.\n",
        "\n",
        "> **(Optional) QUESTION 11:** Write a recursive function to compute the factorial of a number `n`. The factorial of 0 is 1 and the factorial of any number `n` greater than zero is the product of `n * factorial(n-1)`."
      ]
    },
    {
      "cell_type": "code",
      "execution_count": null,
      "id": "4b0f8066",
      "metadata": {
        "id": "4b0f8066"
      },
      "outputs": [],
      "source": [
        "def factorial(n):\n",
        "    # write code here\n",
        "    if n==0:\n",
        "      return 1\n",
        "    else:\n",
        "      return n*factorial(n-1)"
      ]
    },
    {
      "cell_type": "code",
      "execution_count": null,
      "id": "79bbbd45",
      "metadata": {
        "colab": {
          "base_uri": "https://localhost:8080/"
        },
        "id": "79bbbd45",
        "outputId": "975e70aa-199b-4ee2-a8a3-f566995d6b72"
      },
      "outputs": [
        {
          "data": {
            "text/plain": [
              "3628800"
            ]
          },
          "execution_count": 97,
          "metadata": {},
          "output_type": "execute_result"
        }
      ],
      "source": [
        "factorial(10)"
      ]
    },
    {
      "cell_type": "markdown",
      "id": "d1a149b6",
      "metadata": {
        "id": "d1a149b6"
      },
      "source": [
        "The factorial of 10 is computed using the factorial of 9, which itself is computed using the factorial of 8 and so on. "
      ]
    },
    {
      "cell_type": "markdown",
      "id": "802de8eb",
      "metadata": {
        "id": "802de8eb"
      },
      "source": [
        "Let's save our work before continuing."
      ]
    },
    {
      "cell_type": "code",
      "execution_count": null,
      "id": "afb3a64f",
      "metadata": {
        "colab": {
          "base_uri": "https://localhost:8080/",
          "height": 87
        },
        "id": "afb3a64f",
        "outputId": "6647ca96-c17a-4917-ce37-0c02627d5de2"
      },
      "outputs": [
        {
          "name": "stdout",
          "output_type": "stream",
          "text": [
            "[jovian] Detected Colab notebook...\u001b[0m\n",
            "[jovian] Uploading colab notebook to Jovian...\u001b[0m\n",
            "Committed successfully! https://jovian.ai/ankyhunk-bg4/python-sudoku-solver-assignment\n"
          ]
        },
        {
          "data": {
            "application/vnd.google.colaboratory.intrinsic+json": {
              "type": "string"
            },
            "text/plain": [
              "'https://jovian.ai/ankyhunk-bg4/python-sudoku-solver-assignment'"
            ]
          },
          "execution_count": 98,
          "metadata": {},
          "output_type": "execute_result"
        }
      ],
      "source": [
        "jovian.commit()"
      ]
    },
    {
      "cell_type": "markdown",
      "id": "70f8b47b",
      "metadata": {
        "id": "70f8b47b"
      },
      "source": [
        "## (Optional) Solving hundreds of Sudokus \n",
        "\n",
        "Our `solve_sudoku` function is generic enough that it can solve any Sudoku. In this optional extension to the assignment, we'll download a file containing 100 Sudoku puzzles, process the file to create Sudokus is our list-of-lists representation, solve all the puzzles and finally write the results back to a file.\n",
        "\n",
        "First, let's download the file:"
      ]
    },
    {
      "cell_type": "code",
      "execution_count": null,
      "id": "cd0fb97a",
      "metadata": {
        "id": "cd0fb97a"
      },
      "outputs": [],
      "source": [
        "sudokus_url = 'https://gist.githubusercontent.com/aakashns/033af5f9f6f2ec3a2f322105dad38c01/raw/7af74a86ee7fd9ec9bbb9d3b5a2bf08e9e080532/hundred_sudokus.csv'"
      ]
    },
    {
      "cell_type": "code",
      "execution_count": null,
      "id": "c5ec0f98",
      "metadata": {
        "id": "c5ec0f98"
      },
      "outputs": [],
      "source": [
        "from urllib.request import urlretrieve"
      ]
    },
    {
      "cell_type": "code",
      "execution_count": null,
      "id": "520f7a02",
      "metadata": {
        "colab": {
          "base_uri": "https://localhost:8080/"
        },
        "id": "520f7a02",
        "outputId": "436d0021-28d2-4983-81e0-dc0501f4966c"
      },
      "outputs": [
        {
          "data": {
            "text/plain": [
              "('sudokus.csv', <http.client.HTTPMessage at 0x7f1b587b56d0>)"
            ]
          },
          "execution_count": 101,
          "metadata": {},
          "output_type": "execute_result"
        }
      ],
      "source": [
        "urlretrieve(sudokus_url, 'sudokus.csv')"
      ]
    },
    {
      "cell_type": "markdown",
      "id": "4771d5de",
      "metadata": {
        "id": "4771d5de"
      },
      "source": [
        "Next, let's read the contents of the file into a list of lines."
      ]
    },
    {
      "cell_type": "code",
      "execution_count": null,
      "id": "44c73e37",
      "metadata": {
        "id": "44c73e37"
      },
      "outputs": [],
      "source": [
        "with open('sudokus.csv', 'r') as f:\n",
        "    lines = [l.strip() for l in f.readlines()]"
      ]
    },
    {
      "cell_type": "code",
      "execution_count": null,
      "id": "1fec30ea",
      "metadata": {
        "colab": {
          "base_uri": "https://localhost:8080/"
        },
        "id": "1fec30ea",
        "outputId": "beaae3b1-8121-45f0-c86a-cd792c9877d9"
      },
      "outputs": [
        {
          "data": {
            "text/plain": [
              "100"
            ]
          },
          "execution_count": 103,
          "metadata": {},
          "output_type": "execute_result"
        }
      ],
      "source": [
        "len(lines)"
      ]
    },
    {
      "cell_type": "code",
      "execution_count": null,
      "id": "6c5e3efa",
      "metadata": {
        "colab": {
          "base_uri": "https://localhost:8080/"
        },
        "id": "6c5e3efa",
        "outputId": "f997cbe2-fc6d-4f80-855a-41147d6d8115"
      },
      "outputs": [
        {
          "data": {
            "text/plain": [
              "['004300209005009001070060043006002087190007400050083000600000105003508690042910300',\n",
              " '040100050107003960520008000000000017000906800803050620090060543600080700250097100',\n",
              " '600120384008459072000006005000264030070080006940003000310000050089700000502000190',\n",
              " '497200000100400005000016098620300040300900000001072600002005870000600004530097061',\n",
              " '005910308009403060027500100030000201000820007006007004000080000640150700890000420']"
            ]
          },
          "execution_count": 104,
          "metadata": {},
          "output_type": "execute_result"
        }
      ],
      "source": [
        "lines[:5]"
      ]
    },
    {
      "cell_type": "markdown",
      "id": "3ee16bba",
      "metadata": {
        "id": "3ee16bba"
      },
      "source": [
        "Each line of the file represents a Sudoku. Let's create a helper function to convert a line from the file into a list of lists, the representation we have been using so far.\n",
        "\n",
        "\n",
        "> **(Optional) QUESTION 12**: Write a function `parse_sudoku` to convert a Sudoku into a list of lists"
      ]
    },
    {
      "cell_type": "code",
      "execution_count": null,
      "id": "6558445c",
      "metadata": {
        "id": "6558445c"
      },
      "outputs": [],
      "source": [
        "def parse_sudoku(sudoku_str):\n",
        "    # write code here\n",
        "    parse_list=[]\n",
        "    list_lists=[]\n",
        "#    i=[int(i) for i in sudoku_str]  \n",
        "#    j=[i[j:j + 9] for j in range(0, len(i), 9)]\n",
        "#    print(j)\n",
        "    for digit in sudoku_str:\n",
        "      parse_list.append(int(digit))\n",
        "\n",
        "    for i in range(0,81,9):\n",
        "      list_lists.append(parse_list[i:i+9])\n",
        "    return list_lists"
      ]
    },
    {
      "cell_type": "code",
      "execution_count": null,
      "id": "WLN4poE33V64",
      "metadata": {
        "colab": {
          "base_uri": "https://localhost:8080/"
        },
        "id": "WLN4poE33V64",
        "outputId": "ce7840ca-16a2-4f79-d5d8-fc8ab37a8529"
      },
      "outputs": [
        {
          "data": {
            "text/plain": [
              "[[0, 0, 4, 3, 0, 0, 2, 0, 9],\n",
              " [0, 0, 5, 0, 0, 9, 0, 0, 1],\n",
              " [0, 7, 0, 0, 6, 0, 0, 4, 3],\n",
              " [0, 0, 6, 0, 0, 2, 0, 8, 7],\n",
              " [1, 9, 0, 0, 0, 7, 4, 0, 0],\n",
              " [0, 5, 0, 0, 8, 3, 0, 0, 0],\n",
              " [6, 0, 0, 0, 0, 0, 1, 0, 5],\n",
              " [0, 0, 3, 5, 0, 8, 6, 9, 0],\n",
              " [0, 4, 2, 9, 1, 0, 3, 0, 0]]"
            ]
          },
          "execution_count": 117,
          "metadata": {},
          "output_type": "execute_result"
        }
      ],
      "source": [
        "sudoku_str = '004300209005009001070060043006002087190007400050083000600000105003508690042910300'\n",
        "parse_sudoku(sudoku_str)"
      ]
    },
    {
      "cell_type": "code",
      "execution_count": null,
      "id": "1QgUYdzz3Wg6",
      "metadata": {
        "colab": {
          "base_uri": "https://localhost:8080/"
        },
        "id": "1QgUYdzz3Wg6",
        "outputId": "ccdd43bb-62c9-45bc-cfc0-8e23e7a84311"
      },
      "outputs": [
        {
          "data": {
            "text/plain": [
              "[[0, 0, 4, 3, 0, 0, 2, 0, 9],\n",
              " [0, 0, 5, 0, 0, 9, 0, 0, 1],\n",
              " [0, 7, 0, 0, 6, 0, 0, 4, 3],\n",
              " [0, 0, 6, 0, 0, 2, 0, 8, 7],\n",
              " [1, 9, 0, 0, 0, 7, 4, 0, 0],\n",
              " [0, 5, 0, 0, 8, 3, 0, 0, 0],\n",
              " [6, 0, 0, 0, 0, 0, 1, 0, 5],\n",
              " [0, 0, 3, 5, 0, 8, 6, 9, 0],\n",
              " [0, 4, 2, 9, 1, 0, 3, 0, 0]]"
            ]
          },
          "execution_count": 118,
          "metadata": {},
          "output_type": "execute_result"
        }
      ],
      "source": [
        "sudoku_parsed1"
      ]
    },
    {
      "cell_type": "markdown",
      "id": "cb9545a0",
      "metadata": {
        "id": "cb9545a0"
      },
      "source": [
        "The following cell should output `True` if your implementation is correct."
      ]
    },
    {
      "cell_type": "code",
      "execution_count": null,
      "id": "b79b127c",
      "metadata": {
        "colab": {
          "base_uri": "https://localhost:8080/"
        },
        "id": "b79b127c",
        "outputId": "8df5698c-6ef4-42c2-dde2-8a26bdbfd322"
      },
      "outputs": [
        {
          "data": {
            "text/plain": [
              "True"
            ]
          },
          "execution_count": 119,
          "metadata": {},
          "output_type": "execute_result"
        }
      ],
      "source": [
        "sudoku_str1 = '004300209005009001070060043006002087190007400050083000600000105003508690042910300';\n",
        "\n",
        "sudoku_parsed1 = [[0, 0, 4, 3, 0, 0, 2, 0, 9],\n",
        "                  [0, 0, 5, 0, 0, 9, 0, 0, 1],\n",
        "                  [0, 7, 0, 0, 6, 0, 0, 4, 3],\n",
        "                  [0, 0, 6, 0, 0, 2, 0, 8, 7],\n",
        "                  [1, 9, 0, 0, 0, 7, 4, 0, 0],\n",
        "                  [0, 5, 0, 0, 8, 3, 0, 0, 0],\n",
        "                  [6, 0, 0, 0, 0, 0, 1, 0, 5],\n",
        "                  [0, 0, 3, 5, 0, 8, 6, 9, 0],\n",
        "                  [0, 4, 2, 9, 1, 0, 3, 0, 0]]\n",
        "\n",
        "parse_sudoku(sudoku_str1) == sudoku_parsed1"
      ]
    },
    {
      "cell_type": "markdown",
      "id": "68dcb359",
      "metadata": {
        "id": "68dcb359"
      },
      "source": [
        "\n",
        "We can now use list comprehension to convert into a list of lists.\n"
      ]
    },
    {
      "cell_type": "code",
      "execution_count": null,
      "id": "68b8ff92",
      "metadata": {
        "id": "68b8ff92"
      },
      "outputs": [],
      "source": [
        "sudokus = [parse_sudoku(line) for line in lines]    "
      ]
    },
    {
      "cell_type": "code",
      "execution_count": null,
      "id": "4fa31aad",
      "metadata": {
        "colab": {
          "base_uri": "https://localhost:8080/"
        },
        "id": "4fa31aad",
        "outputId": "43f8630a-3bbe-4690-8922-18929df084d7"
      },
      "outputs": [
        {
          "data": {
            "text/plain": [
              "[[[0, 0, 4, 3, 0, 0, 2, 0, 9],\n",
              "  [0, 0, 5, 0, 0, 9, 0, 0, 1],\n",
              "  [0, 7, 0, 0, 6, 0, 0, 4, 3],\n",
              "  [0, 0, 6, 0, 0, 2, 0, 8, 7],\n",
              "  [1, 9, 0, 0, 0, 7, 4, 0, 0],\n",
              "  [0, 5, 0, 0, 8, 3, 0, 0, 0],\n",
              "  [6, 0, 0, 0, 0, 0, 1, 0, 5],\n",
              "  [0, 0, 3, 5, 0, 8, 6, 9, 0],\n",
              "  [0, 4, 2, 9, 1, 0, 3, 0, 0]],\n",
              " [[0, 4, 0, 1, 0, 0, 0, 5, 0],\n",
              "  [1, 0, 7, 0, 0, 3, 9, 6, 0],\n",
              "  [5, 2, 0, 0, 0, 8, 0, 0, 0],\n",
              "  [0, 0, 0, 0, 0, 0, 0, 1, 7],\n",
              "  [0, 0, 0, 9, 0, 6, 8, 0, 0],\n",
              "  [8, 0, 3, 0, 5, 0, 6, 2, 0],\n",
              "  [0, 9, 0, 0, 6, 0, 5, 4, 3],\n",
              "  [6, 0, 0, 0, 8, 0, 7, 0, 0],\n",
              "  [2, 5, 0, 0, 9, 7, 1, 0, 0]],\n",
              " [[6, 0, 0, 1, 2, 0, 3, 8, 4],\n",
              "  [0, 0, 8, 4, 5, 9, 0, 7, 2],\n",
              "  [0, 0, 0, 0, 0, 6, 0, 0, 5],\n",
              "  [0, 0, 0, 2, 6, 4, 0, 3, 0],\n",
              "  [0, 7, 0, 0, 8, 0, 0, 0, 6],\n",
              "  [9, 4, 0, 0, 0, 3, 0, 0, 0],\n",
              "  [3, 1, 0, 0, 0, 0, 0, 5, 0],\n",
              "  [0, 8, 9, 7, 0, 0, 0, 0, 0],\n",
              "  [5, 0, 2, 0, 0, 0, 1, 9, 0]],\n",
              " [[4, 9, 7, 2, 0, 0, 0, 0, 0],\n",
              "  [1, 0, 0, 4, 0, 0, 0, 0, 5],\n",
              "  [0, 0, 0, 0, 1, 6, 0, 9, 8],\n",
              "  [6, 2, 0, 3, 0, 0, 0, 4, 0],\n",
              "  [3, 0, 0, 9, 0, 0, 0, 0, 0],\n",
              "  [0, 0, 1, 0, 7, 2, 6, 0, 0],\n",
              "  [0, 0, 2, 0, 0, 5, 8, 7, 0],\n",
              "  [0, 0, 0, 6, 0, 0, 0, 0, 4],\n",
              "  [5, 3, 0, 0, 9, 7, 0, 6, 1]],\n",
              " [[0, 0, 5, 9, 1, 0, 3, 0, 8],\n",
              "  [0, 0, 9, 4, 0, 3, 0, 6, 0],\n",
              "  [0, 2, 7, 5, 0, 0, 1, 0, 0],\n",
              "  [0, 3, 0, 0, 0, 0, 2, 0, 1],\n",
              "  [0, 0, 0, 8, 2, 0, 0, 0, 7],\n",
              "  [0, 0, 6, 0, 0, 7, 0, 0, 4],\n",
              "  [0, 0, 0, 0, 8, 0, 0, 0, 0],\n",
              "  [6, 4, 0, 1, 5, 0, 7, 0, 0],\n",
              "  [8, 9, 0, 0, 0, 0, 4, 2, 0]]]"
            ]
          },
          "execution_count": 121,
          "metadata": {},
          "output_type": "execute_result"
        }
      ],
      "source": [
        "sudokus[:5]"
      ]
    },
    {
      "cell_type": "markdown",
      "id": "2218e35d",
      "metadata": {
        "id": "2218e35d"
      },
      "source": [
        "We can also use list comprehension to solve all the puzzles."
      ]
    },
    {
      "cell_type": "code",
      "execution_count": null,
      "id": "5545c87a",
      "metadata": {
        "id": "5545c87a"
      },
      "outputs": [],
      "source": [
        "solved_sudokus = [solve_sudoku(sudoku) for sudoku in sudokus]"
      ]
    },
    {
      "cell_type": "code",
      "execution_count": null,
      "id": "3be78e27",
      "metadata": {
        "colab": {
          "base_uri": "https://localhost:8080/"
        },
        "id": "3be78e27",
        "outputId": "36b6fb56-3629-4dad-e2a3-b4fa0c7793b1"
      },
      "outputs": [
        {
          "data": {
            "text/plain": [
              "[[[8, 6, 4, 3, 7, 1, 2, 5, 9],\n",
              "  [3, 2, 5, 8, 4, 9, 7, 6, 1],\n",
              "  [9, 7, 1, 2, 6, 5, 8, 4, 3],\n",
              "  [4, 3, 6, 1, 9, 2, 5, 8, 7],\n",
              "  [1, 9, 8, 6, 5, 7, 4, 3, 2],\n",
              "  [2, 5, 7, 4, 8, 3, 9, 1, 6],\n",
              "  [6, 8, 9, 7, 3, 4, 1, 2, 5],\n",
              "  [7, 1, 3, 5, 0, 8, 6, 9, 0],\n",
              "  [0, 4, 2, 9, 1, 0, 3, 0, 0]],\n",
              " [[3, 4, 6, 1, 7, 9, 2, 5, 8],\n",
              "  [1, 8, 7, 5, 2, 3, 9, 6, 4],\n",
              "  [5, 2, 9, 6, 4, 8, 3, 7, 1],\n",
              "  [9, 6, 5, 8, 3, 2, 4, 1, 7],\n",
              "  [4, 7, 2, 9, 1, 6, 8, 3, 5],\n",
              "  [8, 1, 3, 7, 5, 4, 6, 2, 9],\n",
              "  [7, 9, 8, 2, 6, 1, 5, 4, 3],\n",
              "  [6, 3, 1, 0, 8, 0, 7, 0, 0],\n",
              "  [2, 5, 0, 0, 9, 7, 1, 0, 0]],\n",
              " [[6, 9, 5, 1, 2, 7, 3, 8, 4],\n",
              "  [1, 3, 8, 4, 5, 9, 6, 7, 2],\n",
              "  [7, 2, 4, 8, 3, 6, 9, 1, 5],\n",
              "  [8, 5, 1, 2, 6, 4, 7, 3, 9],\n",
              "  [2, 7, 3, 9, 8, 1, 5, 4, 6],\n",
              "  [9, 4, 6, 5, 7, 3, 8, 2, 1],\n",
              "  [3, 1, 7, 6, 9, 2, 4, 5, 8],\n",
              "  [4, 8, 9, 7, 1, 0, 0, 0, 0],\n",
              "  [5, 0, 2, 0, 0, 0, 1, 9, 0]],\n",
              " [[4, 9, 7, 2, 5, 8, 3, 1, 6],\n",
              "  [1, 8, 6, 4, 3, 9, 7, 2, 5],\n",
              "  [2, 5, 3, 7, 1, 6, 4, 9, 8],\n",
              "  [6, 2, 9, 3, 8, 1, 5, 4, 7],\n",
              "  [3, 7, 5, 9, 6, 4, 1, 8, 2],\n",
              "  [8, 4, 1, 5, 7, 2, 6, 3, 9],\n",
              "  [9, 6, 2, 1, 4, 5, 8, 7, 3],\n",
              "  [7, 1, 0, 6, 0, 0, 0, 0, 4],\n",
              "  [5, 3, 0, 0, 9, 7, 0, 6, 1]],\n",
              " [[4, 6, 5, 9, 1, 2, 3, 7, 8],\n",
              "  [1, 8, 9, 4, 7, 3, 5, 6, 2],\n",
              "  [3, 2, 7, 5, 6, 8, 1, 4, 9],\n",
              "  [7, 3, 8, 6, 4, 5, 2, 9, 1],\n",
              "  [9, 5, 4, 8, 2, 1, 6, 3, 7],\n",
              "  [2, 1, 6, 3, 9, 7, 8, 5, 4],\n",
              "  [5, 7, 3, 2, 8, 4, 9, 1, 6],\n",
              "  [6, 4, 2, 1, 5, 9, 7, 8, 3],\n",
              "  [8, 9, 1, 0, 0, 0, 4, 2, 0]]]"
            ]
          },
          "execution_count": 124,
          "metadata": {},
          "output_type": "execute_result"
        }
      ],
      "source": [
        "solved_sudokus[:5]"
      ]
    },
    {
      "cell_type": "markdown",
      "id": "d9eae82e",
      "metadata": {
        "id": "d9eae82e"
      },
      "source": [
        "> **(Optional) QUESTION 13**: Write a function `write_results` which writes the solved sudokus to a file."
      ]
    },
    {
      "cell_type": "code",
      "execution_count": null,
      "id": "Nr_HT9PL_7c9",
      "metadata": {
        "colab": {
          "base_uri": "https://localhost:8080/",
          "height": 35
        },
        "id": "Nr_HT9PL_7c9",
        "outputId": "f13da1d9-3ca2-4651-969e-5bc0dceb2b9f"
      },
      "outputs": [
        {
          "data": {
            "application/vnd.google.colaboratory.intrinsic+json": {
              "type": "string"
            },
            "text/plain": [
              "'004300209005009001070060043006002087190007400050083000600000105003508690042910300'"
            ]
          },
          "execution_count": 133,
          "metadata": {},
          "output_type": "execute_result"
        }
      ],
      "source": [
        "\n",
        "sud_line=[j for i in sudoku_parsed1 for j in i] \n",
        "sud_line1=''.join([str(i) for i in sud_line])\n",
        "sud_line1\n"
      ]
    },
    {
      "cell_type": "code",
      "execution_count": null,
      "id": "d1272f43",
      "metadata": {
        "id": "d1272f43"
      },
      "outputs": [],
      "source": [
        "def write_results(solved_sudokus, filename):\n",
        "    # write code here\n",
        "    with open(filename,'w') as f:\n",
        "      for sudoku in solved_sudokus:\n",
        "        one_line=[j for i in sudoku for j in i]\n",
        "        line=''.join([str(i) for i in one_line])\n",
        "        f.write(line+'\\n')"
      ]
    },
    {
      "cell_type": "code",
      "execution_count": null,
      "id": "x7k5_cT3_6HT",
      "metadata": {
        "id": "x7k5_cT3_6HT"
      },
      "outputs": [],
      "source": []
    },
    {
      "cell_type": "code",
      "execution_count": null,
      "id": "c4abf9ca",
      "metadata": {
        "id": "c4abf9ca"
      },
      "outputs": [],
      "source": [
        "write_results(solved_sudokus, 'sudokus_solved.csv')"
      ]
    },
    {
      "cell_type": "markdown",
      "id": "1b0f4188",
      "metadata": {
        "id": "1b0f4188"
      },
      "source": [
        "Let's view the file to ensure that it was written properly."
      ]
    },
    {
      "cell_type": "code",
      "execution_count": null,
      "id": "a883dee4",
      "metadata": {
        "colab": {
          "base_uri": "https://localhost:8080/"
        },
        "id": "a883dee4",
        "outputId": "f725a65f-f530-457a-a585-e10ba552bd1d"
      },
      "outputs": [
        {
          "data": {
            "text/plain": [
              "['864371259325849761971265843436192587198657432257483916689734125713508690042910300',\n",
              " '346179258187523964529648371965832417472916835813754629798261543631080700250097100',\n",
              " '695127384138459672724836915851264739273981546946573821317692458489710000502000190',\n",
              " '497258316186439725253716498629381547375964182841572639962145873710600004530097061',\n",
              " '465912378189473562327568149738645291954821637216397854573284916642159783891000420']"
            ]
          },
          "execution_count": 139,
          "metadata": {},
          "output_type": "execute_result"
        }
      ],
      "source": [
        "with open('sudokus_solved.csv', 'r') as f:\n",
        "    lines2 = [l.strip() for l in f.readlines()]\n",
        "    \n",
        "lines2[:5]"
      ]
    },
    {
      "cell_type": "markdown",
      "id": "1f64c8dd",
      "metadata": {
        "id": "1f64c8dd"
      },
      "source": [
        "Finally, let's save our work."
      ]
    },
    {
      "cell_type": "code",
      "execution_count": null,
      "id": "c1f4b9ff",
      "metadata": {
        "colab": {
          "base_uri": "https://localhost:8080/",
          "height": 87
        },
        "id": "c1f4b9ff",
        "outputId": "5930e88c-8cb4-4f25-e1ba-2fc294d7e72e"
      },
      "outputs": [
        {
          "name": "stdout",
          "output_type": "stream",
          "text": [
            "[jovian] Detected Colab notebook...\u001b[0m\n",
            "[jovian] Uploading colab notebook to Jovian...\u001b[0m\n",
            "Committed successfully! https://jovian.ai/ankyhunk-bg4/python-sudoku-solver-assignment\n"
          ]
        },
        {
          "data": {
            "application/vnd.google.colaboratory.intrinsic+json": {
              "type": "string"
            },
            "text/plain": [
              "'https://jovian.ai/ankyhunk-bg4/python-sudoku-solver-assignment'"
            ]
          },
          "execution_count": 140,
          "metadata": {},
          "output_type": "execute_result"
        }
      ],
      "source": [
        "jovian.commit()"
      ]
    },
    {
      "cell_type": "code",
      "execution_count": null,
      "id": "9a686162",
      "metadata": {
        "id": "9a686162"
      },
      "outputs": [],
      "source": []
    }
  ],
  "metadata": {
    "colab": {
      "provenance": []
    },
    "kernelspec": {
      "display_name": "Python 3 (ipykernel)",
      "language": "python",
      "name": "python3"
    },
    "language_info": {
      "codemirror_mode": {
        "name": "ipython",
        "version": 3
      },
      "file_extension": ".py",
      "mimetype": "text/x-python",
      "name": "python",
      "nbconvert_exporter": "python",
      "pygments_lexer": "ipython3",
      "version": "3.9.6"
    }
  },
  "nbformat": 4,
  "nbformat_minor": 5
}